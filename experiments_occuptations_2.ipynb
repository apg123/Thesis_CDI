{
 "cells": [
  {
   "cell_type": "code",
   "execution_count": 3,
   "metadata": {},
   "outputs": [],
   "source": [
    "import csv\n",
    "import pandas as pd\n",
    "import clip\n",
    "import torch\n",
    "import numpy as np\n",
    "import matplotlib.pyplot as plt\n",
    "from helpers import *\n",
    "from image_database import *\n",
    "from PIL import Image\n",
    "from scipy.spatial.distance import cdist\n",
    "import bisect \n",
    "from scipy.spatial import ConvexHull\n",
    "import gc\n",
    "import debias_clip as dclip\n",
    "#import cvxpy as cp\n",
    "image_folder_prefix = 'datasets/occupations_2/images/'\n",
    "\n",
    "import sys\n",
    "from PIL import Image\n"
   ]
  },
  {
   "cell_type": "code",
   "execution_count": 2,
   "metadata": {},
   "outputs": [
    {
     "name": "stdout",
     "output_type": "stream",
     "text": [
      "96\n",
      "(9598, 7)\n"
     ]
    }
   ],
   "source": [
    "## Preprocessing\n",
    "data = pd.read_csv('datasets/occupations_2/occupations_labels.csv') #datasets\\occuptations_2\\occupations_labels.csv\n",
    "extract_term = lambda x: x.split('/')[0]\n",
    "data['search_term'] = data['location'].apply(extract_term)\n",
    "\n",
    "catagories = data['search_term'].unique()\n",
    "define_path = lambda x: image_folder_prefix + x \n",
    "data['image_relative_path'] = data['location'].apply(define_path)\n",
    "\n",
    "flawed_images = [\"PR person/000056.jpg\", \"mail carrier/000067.jpg\"]\n",
    "\n",
    "data.drop(data[data['location'].isin(flawed_images)].index, inplace = True)\n",
    "\n",
    "true_rate_women = {}\n",
    "true_rate_dark = {}\n",
    "\n",
    "for cat in catagories:\n",
    "    data_in_cat = data[data['search_term'] == cat]\n",
    "    true_rate_women[cat] = data_in_cat[data_in_cat['gender'] == 'Female'].count()[0]/data_in_cat.count()[0]\n",
    "    true_rate_dark[cat] = data_in_cat[data_in_cat['skintone'] == 'dark'].count()[0]/data_in_cat.count()[0]\n",
    "    data.loc[data['search_term'] == cat, 'search_p_women'] = true_rate_women[cat]\n",
    "    data.loc[data['search_term'] == cat, 'search_p_dark'] = true_rate_dark[cat]\n",
    "\n",
    "print(len(catagories))\n",
    "print(data.shape)"
   ]
  },
  {
   "cell_type": "code",
   "execution_count": 3,
   "metadata": {},
   "outputs": [
    {
     "data": {
      "text/html": [
       "<div>\n",
       "<style scoped>\n",
       "    .dataframe tbody tr th:only-of-type {\n",
       "        vertical-align: middle;\n",
       "    }\n",
       "\n",
       "    .dataframe tbody tr th {\n",
       "        vertical-align: top;\n",
       "    }\n",
       "\n",
       "    .dataframe thead th {\n",
       "        text-align: right;\n",
       "    }\n",
       "</style>\n",
       "<table border=\"1\" class=\"dataframe\">\n",
       "  <thead>\n",
       "    <tr style=\"text-align: right;\">\n",
       "      <th></th>\n",
       "      <th>location</th>\n",
       "      <th>gender</th>\n",
       "      <th>skintone</th>\n",
       "      <th>search_term</th>\n",
       "      <th>image_relative_path</th>\n",
       "      <th>search_p_women</th>\n",
       "      <th>search_p_dark</th>\n",
       "    </tr>\n",
       "  </thead>\n",
       "  <tbody>\n",
       "    <tr>\n",
       "      <th>0</th>\n",
       "      <td>garbage collector/000001.jpg</td>\n",
       "      <td>Male</td>\n",
       "      <td>dark</td>\n",
       "      <td>garbage collector</td>\n",
       "      <td>datasets/occupations_2/images/garbage collecto...</td>\n",
       "      <td>0.08</td>\n",
       "      <td>0.15</td>\n",
       "    </tr>\n",
       "    <tr>\n",
       "      <th>1</th>\n",
       "      <td>garbage collector/000002.jpg</td>\n",
       "      <td>Male</td>\n",
       "      <td>light</td>\n",
       "      <td>garbage collector</td>\n",
       "      <td>datasets/occupations_2/images/garbage collecto...</td>\n",
       "      <td>0.08</td>\n",
       "      <td>0.15</td>\n",
       "    </tr>\n",
       "    <tr>\n",
       "      <th>2</th>\n",
       "      <td>garbage collector/000003.jpg</td>\n",
       "      <td>Male</td>\n",
       "      <td>dark</td>\n",
       "      <td>garbage collector</td>\n",
       "      <td>datasets/occupations_2/images/garbage collecto...</td>\n",
       "      <td>0.08</td>\n",
       "      <td>0.15</td>\n",
       "    </tr>\n",
       "    <tr>\n",
       "      <th>3</th>\n",
       "      <td>garbage collector/000004.jpg</td>\n",
       "      <td>Male</td>\n",
       "      <td>dark</td>\n",
       "      <td>garbage collector</td>\n",
       "      <td>datasets/occupations_2/images/garbage collecto...</td>\n",
       "      <td>0.08</td>\n",
       "      <td>0.15</td>\n",
       "    </tr>\n",
       "    <tr>\n",
       "      <th>4</th>\n",
       "      <td>garbage collector/000005.jpg</td>\n",
       "      <td>Male</td>\n",
       "      <td>dark</td>\n",
       "      <td>garbage collector</td>\n",
       "      <td>datasets/occupations_2/images/garbage collecto...</td>\n",
       "      <td>0.08</td>\n",
       "      <td>0.15</td>\n",
       "    </tr>\n",
       "    <tr>\n",
       "      <th>5</th>\n",
       "      <td>garbage collector/000006.jpg</td>\n",
       "      <td>NaN</td>\n",
       "      <td>NaN</td>\n",
       "      <td>garbage collector</td>\n",
       "      <td>datasets/occupations_2/images/garbage collecto...</td>\n",
       "      <td>0.08</td>\n",
       "      <td>0.15</td>\n",
       "    </tr>\n",
       "    <tr>\n",
       "      <th>6</th>\n",
       "      <td>garbage collector/000007.jpg</td>\n",
       "      <td>NaN</td>\n",
       "      <td>NaN</td>\n",
       "      <td>garbage collector</td>\n",
       "      <td>datasets/occupations_2/images/garbage collecto...</td>\n",
       "      <td>0.08</td>\n",
       "      <td>0.15</td>\n",
       "    </tr>\n",
       "    <tr>\n",
       "      <th>7</th>\n",
       "      <td>garbage collector/000008.jpg</td>\n",
       "      <td>Male</td>\n",
       "      <td>light</td>\n",
       "      <td>garbage collector</td>\n",
       "      <td>datasets/occupations_2/images/garbage collecto...</td>\n",
       "      <td>0.08</td>\n",
       "      <td>0.15</td>\n",
       "    </tr>\n",
       "    <tr>\n",
       "      <th>8</th>\n",
       "      <td>garbage collector/000009.jpg</td>\n",
       "      <td>Male</td>\n",
       "      <td>dark</td>\n",
       "      <td>garbage collector</td>\n",
       "      <td>datasets/occupations_2/images/garbage collecto...</td>\n",
       "      <td>0.08</td>\n",
       "      <td>0.15</td>\n",
       "    </tr>\n",
       "    <tr>\n",
       "      <th>9</th>\n",
       "      <td>garbage collector/000010.jpg</td>\n",
       "      <td>Male</td>\n",
       "      <td>dark</td>\n",
       "      <td>garbage collector</td>\n",
       "      <td>datasets/occupations_2/images/garbage collecto...</td>\n",
       "      <td>0.08</td>\n",
       "      <td>0.15</td>\n",
       "    </tr>\n",
       "  </tbody>\n",
       "</table>\n",
       "</div>"
      ],
      "text/plain": [
       "                       location gender skintone        search_term  \\\n",
       "0  garbage collector/000001.jpg   Male     dark  garbage collector   \n",
       "1  garbage collector/000002.jpg   Male    light  garbage collector   \n",
       "2  garbage collector/000003.jpg   Male     dark  garbage collector   \n",
       "3  garbage collector/000004.jpg   Male     dark  garbage collector   \n",
       "4  garbage collector/000005.jpg   Male     dark  garbage collector   \n",
       "5  garbage collector/000006.jpg    NaN      NaN  garbage collector   \n",
       "6  garbage collector/000007.jpg    NaN      NaN  garbage collector   \n",
       "7  garbage collector/000008.jpg   Male    light  garbage collector   \n",
       "8  garbage collector/000009.jpg   Male     dark  garbage collector   \n",
       "9  garbage collector/000010.jpg   Male     dark  garbage collector   \n",
       "\n",
       "                                 image_relative_path  search_p_women  \\\n",
       "0  datasets/occupations_2/images/garbage collecto...            0.08   \n",
       "1  datasets/occupations_2/images/garbage collecto...            0.08   \n",
       "2  datasets/occupations_2/images/garbage collecto...            0.08   \n",
       "3  datasets/occupations_2/images/garbage collecto...            0.08   \n",
       "4  datasets/occupations_2/images/garbage collecto...            0.08   \n",
       "5  datasets/occupations_2/images/garbage collecto...            0.08   \n",
       "6  datasets/occupations_2/images/garbage collecto...            0.08   \n",
       "7  datasets/occupations_2/images/garbage collecto...            0.08   \n",
       "8  datasets/occupations_2/images/garbage collecto...            0.08   \n",
       "9  datasets/occupations_2/images/garbage collecto...            0.08   \n",
       "\n",
       "   search_p_dark  \n",
       "0           0.15  \n",
       "1           0.15  \n",
       "2           0.15  \n",
       "3           0.15  \n",
       "4           0.15  \n",
       "5           0.15  \n",
       "6           0.15  \n",
       "7           0.15  \n",
       "8           0.15  \n",
       "9           0.15  "
      ]
     },
     "execution_count": 3,
     "metadata": {},
     "output_type": "execute_result"
    }
   ],
   "source": [
    "data.head(10)\n"
   ]
  },
  {
   "cell_type": "code",
   "execution_count": 3,
   "metadata": {},
   "outputs": [
    {
     "name": "stderr",
     "output_type": "stream",
     "text": [
      " 17%|█▋        | 8/48 [00:48<04:15,  6.39s/it]c:\\Anaconda\\lib\\site-packages\\PIL\\Image.py:981: UserWarning: Palette images with Transparency expressed in bytes should be converted to RGBA images\n",
      "  warnings.warn(\n",
      "100%|██████████| 48/48 [08:23<00:00, 10.48s/it]\n"
     ]
    }
   ],
   "source": [
    "device = \"cuda\" if torch.cuda.is_available() else \"cpu\"\n",
    "model, preprocess = clip.load(\"ViT-B/32\", device)\n",
    "\n",
    "batch_size = 200\n",
    "\n",
    "if True:\n",
    "    features = process_images(model, preprocess, data['image_relative_path'], batch_size=batch_size)\n",
    "\n"
   ]
  },
  {
   "cell_type": "code",
   "execution_count": 4,
   "metadata": {},
   "outputs": [
    {
     "name": "stdout",
     "output_type": "stream",
     "text": [
      "Installing pretrained embedings\n",
      " best_ndkl_oai-clip-vit-b-16_neptune_run_OXVLB-317_model_e4_step_5334_embeddings.pt...\n"
     ]
    },
    {
     "name": "stderr",
     "output_type": "stream",
     "text": [
      "100%|█████████████████████████████████████| 4.73k/4.73k [00:00<00:00, 2.85MiB/s]\n",
      "100%|██████████| 48/48 [07:52<00:00,  9.83s/it]\n"
     ]
    },
    {
     "name": "stdout",
     "output_type": "stream",
     "text": [
      "Installing pretrained embedings\n",
      " best_ndkl_oai-clip-vit-b-16_neptune_run_OXVLB-317_model_e4_step_5334_embeddings.pt...\n"
     ]
    },
    {
     "name": "stderr",
     "output_type": "stream",
     "text": [
      "100%|█████████████████████████████████████| 4.73k/4.73k [00:00<00:00, 4.88MiB/s]\n"
     ]
    }
   ],
   "source": [
    "device_d = \"cuda\" if torch.cuda.is_available() else \"cpu\"\n",
    "model_debias, preprocess_debias = dclip.load(\"ViT-B/16-gender\", device_d)\n",
    "\n",
    "batch_size = 200\n",
    "\n",
    "features_debias = process_images(model_debias, preprocess_debias, data['image_relative_path'], batch_size=batch_size, device=device_d)\n",
    "\n",
    "device_d = 'cpu'\n",
    "model_debias, preprocess_debias = dclip.load(\"ViT-B/16-gender\", device_d)"
   ]
  },
  {
   "cell_type": "code",
   "execution_count": 5,
   "metadata": {},
   "outputs": [
    {
     "name": "stdout",
     "output_type": "stream",
     "text": [
      "[[ 0.0842   0.533   -0.0644  ...  0.9097   0.05615 -0.00886]\n",
      " [-0.306    0.3274   0.2013  ...  0.8115  -0.2      0.2605 ]\n",
      " [ 0.0686   0.1488   0.101   ...  0.486    0.1422   0.331  ]\n",
      " ...\n",
      " [ 0.3772  -0.1936   0.297   ...  0.7603   0.0554  -0.0834 ]\n",
      " [-0.223   -0.1492   0.4485  ...  0.6636   0.0761   0.1573 ]\n",
      " [-0.01723 -0.2815  -0.1882  ...  0.2216   0.458   -0.02133]]\n"
     ]
    }
   ],
   "source": [
    "print(features)\n",
    "\n",
    "np.save('datasets/occupations_2/embeddings_of_labelled_images.npy', features)\n",
    "np.save('datasets/occupations_2/embeddings_of_labelled_images_debias.npy', features_debias)\n",
    "\n",
    "if False:\n",
    "    features = np.load('datasets/occupations_2/embeddings_of_labelled_images.npy')\n"
   ]
  },
  {
   "cell_type": "code",
   "execution_count": 6,
   "metadata": {},
   "outputs": [
    {
     "name": "stdout",
     "output_type": "stream",
     "text": [
      "Installing pretrained embedings\n",
      " best_ndkl_oai-clip-vit-b-16_neptune_run_OXVLB-317_model_e4_step_5334_embeddings.pt...\n"
     ]
    },
    {
     "name": "stderr",
     "output_type": "stream",
     "text": [
      "100%|█████████████████████████████████████| 4.73k/4.73k [00:00<00:00, 4.83MiB/s]\n"
     ]
    }
   ],
   "source": [
    "features = np.load('datasets/occupations_2/embeddings_of_labelled_images.npy')\n",
    "features_debias = np.load('datasets/occupations_2/embeddings_of_labelled_images_debias.npy')\n",
    "\n",
    "device_d = 'cpu'\n",
    "model_debias, preprocess_debias = dclip.load(\"ViT-B/16-gender\", device_d)\n",
    "\n",
    "device = \"cuda\" if torch.cuda.is_available() else \"cpu\"\n",
    "model, preprocess = clip.load(\"ViT-B/32\", device)"
   ]
  },
  {
   "cell_type": "code",
   "execution_count": 12,
   "metadata": {},
   "outputs": [
    {
     "name": "stdout",
     "output_type": "stream",
     "text": [
      "                       location gender skintone        search_term  \\\n",
      "0  garbage collector/000001.jpg   Male     dark  garbage collector   \n",
      "1  garbage collector/000002.jpg   Male    light  garbage collector   \n",
      "2  garbage collector/000003.jpg   Male     dark  garbage collector   \n",
      "3  garbage collector/000004.jpg   Male     dark  garbage collector   \n",
      "4  garbage collector/000005.jpg   Male     dark  garbage collector   \n",
      "\n",
      "                                 image_relative_path  search_p_women  \\\n",
      "0  datasets/occupations_2/images/garbage collecto...            0.08   \n",
      "1  datasets/occupations_2/images/garbage collecto...            0.08   \n",
      "2  datasets/occupations_2/images/garbage collecto...            0.08   \n",
      "3  datasets/occupations_2/images/garbage collecto...            0.08   \n",
      "4  datasets/occupations_2/images/garbage collecto...            0.08   \n",
      "\n",
      "   search_p_dark  \n",
      "0           0.15  \n",
      "1           0.15  \n",
      "2           0.15  \n",
      "3           0.15  \n",
      "4           0.15  \n",
      "['garbage collector' 'dental hygienist' 'paralegal' 'courier'\n",
      " 'housekeeper' 'carpenter' 'nurse practitioner' 'building painter'\n",
      " 'building inspector' 'barber' 'lawyer' 'tour guide' 'logistician'\n",
      " 'pharmacist' 'bartender' 'librarian' 'tax collector' 'hairdresser'\n",
      " 'engineer' 'flight attendant' 'plumber' 'biologist' 'parking attendant'\n",
      " 'claims adjuster' 'truck driver' 'cook' 'counselor' 'drafter'\n",
      " 'photographer' 'financial advisor' 'baker' 'chiropractor'\n",
      " 'insurance sales agent' 'architect' 'groundskeeper' 'taxi driver'\n",
      " 'tax preparer' 'exterminator' 'veterinarians' 'nurse' 'dishwasher'\n",
      " 'real estate agent' 'announcer' 'bill collector' 'private investigator'\n",
      " 'receptionist' 'typist' 'travel agent' 'teller' 'editor' 'butcher'\n",
      " 'primary school teacher' 'pilot' 'crossing guard' 'electrician'\n",
      " 'machinist' 'doctor' 'paramedic' 'massage therapist'\n",
      " 'customer service representative' 'Financial analyst'\n",
      " 'physical therapist' 'designer' 'software developer' 'technical writer'\n",
      " 'PR person' 'firefighter' 'computer programmer' 'roofer' 'social worker'\n",
      " 'security guard' 'special ed teacher' 'crane operator' 'welder'\n",
      " 'bus driver' 'dentist' 'chief executive officer' 'childcare worker'\n",
      " 'police officer' 'web developer' 'high school teacher' 'chemist'\n",
      " 'mail carrier' 'detective' 'custodian' 'author' 'lab tech'\n",
      " 'construction worker' 'cashier' 'clergy member' 'chef' 'telemarketer'\n",
      " 'administrative assistant' 'fundraiser' 'psychologist' 'optician']\n",
      "torch.float16\n",
      "              location gender skintone search_term  \\\n",
      "5259  pilot/000060.jpg   Male    light       pilot   \n",
      "5292  pilot/000093.jpg   Male    light       pilot   \n",
      "5206  pilot/000007.jpg   Male    light       pilot   \n",
      "5207  pilot/000008.jpg   Male    light       pilot   \n",
      "5245  pilot/000046.jpg   Male    light       pilot   \n",
      "5258  pilot/000059.jpg   Male    light       pilot   \n",
      "5232  pilot/000033.jpg   Male    light       pilot   \n",
      "5215  pilot/000016.jpg   Male    light       pilot   \n",
      "5226  pilot/000027.jpg   Male    light       pilot   \n",
      "5228  pilot/000029.jpg   Male    light       pilot   \n",
      "\n",
      "                                 image_relative_path  search_p_women  \\\n",
      "5259  datasets/occupations_2/images/pilot/000060.jpg            0.27   \n",
      "5292  datasets/occupations_2/images/pilot/000093.jpg            0.27   \n",
      "5206  datasets/occupations_2/images/pilot/000007.jpg            0.27   \n",
      "5207  datasets/occupations_2/images/pilot/000008.jpg            0.27   \n",
      "5245  datasets/occupations_2/images/pilot/000046.jpg            0.27   \n",
      "5258  datasets/occupations_2/images/pilot/000059.jpg            0.27   \n",
      "5232  datasets/occupations_2/images/pilot/000033.jpg            0.27   \n",
      "5215  datasets/occupations_2/images/pilot/000016.jpg            0.27   \n",
      "5226  datasets/occupations_2/images/pilot/000027.jpg            0.27   \n",
      "5228  datasets/occupations_2/images/pilot/000029.jpg            0.27   \n",
      "\n",
      "      search_p_dark  \n",
      "5259           0.14  \n",
      "5292           0.14  \n",
      "5206           0.14  \n",
      "5207           0.14  \n",
      "5245           0.14  \n",
      "5258           0.14  \n",
      "5232           0.14  \n",
      "5215           0.14  \n",
      "5226           0.14  \n",
      "5228           0.14  \n"
     ]
    }
   ],
   "source": [
    "## Written referencing https://stackoverflow.com/questions/30227466/combine-several-images-horizontally-with-python\n",
    "def process_images(image_addresses, max_size=(200, 200)):\n",
    "    images = [Image.open(image_address) for image_address in image_addresses]\n",
    "    for image in images:\n",
    "        image.thumbnail(max_size)\n",
    "    new_im = Image.new('RGB', (150 * 5, 300), color='white')\n",
    "    x_offset = 0\n",
    "    for i, im in enumerate(images):\n",
    "        b = Image.new('RGB', (150, 150), 'black')\n",
    "        if i <= len(images) // 2 - 1:\n",
    "            new_im.paste(b, (x_offset, 0))\n",
    "            new_im.paste(im, (x_offset, 0))\n",
    "        else:\n",
    "            new_im.paste(b, (x_offset, 150))\n",
    "            new_im.paste(im, (x_offset, 150))\n",
    "        x_offset += 150\n",
    "        if i == len(images) // 2 - 1:\n",
    "            x_offset = 0\n",
    "    return new_im\n",
    "\n",
    "image_database = ImageDatabase(features, data, model, preprocess, device)\n",
    "image_database.sensitive_attributes([(\"A picture of a man\", \"A picture of a woman\"), (\"A picture of a light-skinned person\", \"A picture of a dark-skinned person\"), (\"A picture of a young person\", \"A picture of an old person\")])\n",
    "\n",
    "print(data.head())\n",
    "print(data['search_term'].unique())\n",
    "\n",
    "print(image_database.features.dtype)\n",
    "print(image_database.search(\"This is a picture of a pilot.\"))\n",
    "pilot1 = image_database.search(\"This is a picture of a pilot.\")\n",
    "pilot2 = image_database.distinct_retrival(\"This is a picture of a pilot.\", tol=.035)\n",
    "\n",
    "p1c = process_images(pilot1['image_relative_path'])\n",
    "p1c.save('results/graphics/pilot1.jpg')\n",
    "p2c = process_images(pilot2['image_relative_path'])\n",
    "p2c.save('results/graphics/pilot2.jpg')\n",
    "\n",
    "l1 = image_database.search(\"This is a picture of a librarian.\")\n",
    "l2 = image_database.distinct_retrival(\"This is a picture of a librarian.\", tol=.035)\n",
    "\n",
    "l1c = process_images(l1['image_relative_path'])\n",
    "l1c.save('results/graphics/librarian1.jpg')\n",
    "l2c = process_images(l2['image_relative_path'])\n",
    "l2c.save('results/graphics/librarian2.jpg')\n",
    "\n",
    "\n"
   ]
  },
  {
   "cell_type": "code",
   "execution_count": 39,
   "metadata": {},
   "outputs": [
    {
     "name": "stdout",
     "output_type": "stream",
     "text": [
      "0.3\n"
     ]
    },
    {
     "data": {
      "image/png": "[encoded data removed]",
      "text/plain": [
       "<Figure size 640x480 with 1 Axes>"
      ]
     },
     "metadata": {},
     "output_type": "display_data"
    },
    {
     "data": {
      "image/png": "[encoded data removed]",
      "text/plain": [
       "<Figure size 640x480 with 1 Axes>"
      ]
     },
     "metadata": {},
     "output_type": "display_data"
    },
    {
     "name": "stdout",
     "output_type": "stream",
     "text": [
      "                         location  gender skintone       search_term  \\\n",
      "7522           dentist/000023.jpg    Male    light           dentist   \n",
      "8866           cashier/000067.jpg  Female     dark           cashier   \n",
      "5627            doctor/000028.jpg    Male    light            doctor   \n",
      "173   dental hygienist/000074.jpg  Female    light  dental hygienist   \n",
      "3761      exterminator/000062.jpg    Male    light      exterminator   \n",
      "7593           dentist/000094.jpg  Female    light           dentist   \n",
      "7532           dentist/000033.jpg    Male    light           dentist   \n",
      "100   dental hygienist/000001.jpg  Female    light  dental hygienist   \n",
      "2062           plumber/000063.jpg    Male    light           plumber   \n",
      "7561           dentist/000062.jpg  Female    light           dentist   \n",
      "7562           dentist/000063.jpg    Male    light           dentist   \n",
      "7531           dentist/000032.jpg  Female    light           dentist   \n",
      "7548           dentist/000049.jpg    Male    light           dentist   \n",
      "141   dental hygienist/000042.jpg  Female    light  dental hygienist   \n",
      "3075             baker/000076.jpg    Male    light             baker   \n",
      "7540           dentist/000041.jpg  Female    light           dentist   \n",
      "3879     veterinarians/000080.jpg  Female    light     veterinarians   \n",
      "7520           dentist/000021.jpg  Female    light           dentist   \n",
      "7563           dentist/000064.jpg    Male    light           dentist   \n",
      "926             barber/000027.jpg    Male      NaN            barber   \n",
      "163   dental hygienist/000064.jpg  Female    light  dental hygienist   \n",
      "7533           dentist/000034.jpg    Male    light           dentist   \n",
      "193   dental hygienist/000094.jpg  Female    light  dental hygienist   \n",
      "7511           dentist/000012.jpg    Male    light           dentist   \n",
      "119   dental hygienist/000020.jpg  Female    light  dental hygienist   \n",
      "\n",
      "                                    image_relative_path  search_p_women  \\\n",
      "7522   datasets/occupations_2/images/dentist/000023.jpg            0.36   \n",
      "8866   datasets/occupations_2/images/cashier/000067.jpg            0.56   \n",
      "5627    datasets/occupations_2/images/doctor/000028.jpg            0.36   \n",
      "173   datasets/occupations_2/images/dental hygienist...            0.56   \n",
      "3761  datasets/occupations_2/images/exterminator/000...            0.03   \n",
      "7593   datasets/occupations_2/images/dentist/000094.jpg            0.36   \n",
      "7532   datasets/occupations_2/images/dentist/000033.jpg            0.36   \n",
      "100   datasets/occupations_2/images/dental hygienist...            0.56   \n",
      "2062   datasets/occupations_2/images/plumber/000063.jpg            0.04   \n",
      "7561   datasets/occupations_2/images/dentist/000062.jpg            0.36   \n",
      "7562   datasets/occupations_2/images/dentist/000063.jpg            0.36   \n",
      "7531   datasets/occupations_2/images/dentist/000032.jpg            0.36   \n",
      "7548   datasets/occupations_2/images/dentist/000049.jpg            0.36   \n",
      "141   datasets/occupations_2/images/dental hygienist...            0.56   \n",
      "3075     datasets/occupations_2/images/baker/000076.jpg            0.26   \n",
      "7540   datasets/occupations_2/images/dentist/000041.jpg            0.36   \n",
      "3879  datasets/occupations_2/images/veterinarians/00...            0.42   \n",
      "7520   datasets/occupations_2/images/dentist/000021.jpg            0.36   \n",
      "7563   datasets/occupations_2/images/dentist/000064.jpg            0.36   \n",
      "926     datasets/occupations_2/images/barber/000027.jpg            0.06   \n",
      "163   datasets/occupations_2/images/dental hygienist...            0.56   \n",
      "7533   datasets/occupations_2/images/dentist/000034.jpg            0.36   \n",
      "193   datasets/occupations_2/images/dental hygienist...            0.56   \n",
      "7511   datasets/occupations_2/images/dentist/000012.jpg            0.36   \n",
      "119   datasets/occupations_2/images/dental hygienist...            0.56   \n",
      "\n",
      "      search_p_dark  \n",
      "7522           0.11  \n",
      "8866           0.18  \n",
      "5627           0.19  \n",
      "173            0.06  \n",
      "3761           0.04  \n",
      "7593           0.11  \n",
      "7532           0.11  \n",
      "100            0.06  \n",
      "2062           0.06  \n",
      "7561           0.11  \n",
      "7562           0.11  \n",
      "7531           0.11  \n",
      "7548           0.11  \n",
      "141            0.06  \n",
      "3075           0.07  \n",
      "7540           0.11  \n",
      "3879           0.07  \n",
      "7520           0.11  \n",
      "7563           0.11  \n",
      "926            0.15  \n",
      "163            0.06  \n",
      "7533           0.11  \n",
      "193            0.06  \n",
      "7511           0.11  \n",
      "119            0.06  \n"
     ]
    }
   ],
   "source": [
    "class ImageDatabase():\n",
    "    def __init__(self, features, data, model, preprocess, device=\"cuda\"):\n",
    "        if device == \"cuda\": self.arraytype = torch.float16 \n",
    "        else: self.arraytype = torch.float32\n",
    "        self.features = t_normalize(torch.tensor(features).to(device)).to(self.arraytype)\n",
    "        self.data = data\n",
    "        self.model = model\n",
    "        self.preprocess = preprocess\n",
    "        self.device = device\n",
    "        self.clipclip_orderings = {}\n",
    "\n",
    "    def _process_query(self, query):\n",
    "        token = clip.tokenize(query).to(self.device)\n",
    "        #print(token.device)\n",
    "        with torch.no_grad():\n",
    "            query_features = t_normalize(self.model.encode_text(token))\n",
    "        return query_features\n",
    "        \n",
    "    def search(self, query, k=10, **kwargs):\n",
    "        query_features = self._process_query(query)\n",
    "        similarities = (self.features @ query_features.T).flatten()\n",
    "        best = similarities.argsort(descending=True).cpu().flatten()\n",
    "        return self.data.iloc[best[:k]], similarities \n",
    "    \n",
    "    def sensitive_attributes(self, paired_attributes):\n",
    "        l_attr = list(sum(paired_attributes, ()))\n",
    "        tokens = clip.tokenize(l_attr).to(self.device)\n",
    "        with torch.no_grad():\n",
    "            attributes_features = t_normalize(self.model.encode_text(tokens))\n",
    "        self.sensitive_ideals = attributes_features.reshape(len(paired_attributes), 2, -1)\n",
    "\n",
    "        return self\n",
    "        \n",
    "    def _calc_sim_set(self, best, similarities, k, max_sim_set, tol):\n",
    "        sim = similarities[best]\n",
    "        sim_top_k_avg = sim[0:k].mean()\n",
    "        for i in range(len(sim)):\n",
    "            if sim[i] < sim_top_k_avg - tol:\n",
    "                break\n",
    "        k = min(max(k, i), max_sim_set)\n",
    "        return best[0:k]\n",
    "\n",
    "\n",
    "    def _get_sim_to_ideal(self, entries):\n",
    "        sim_set_features = self.features[entries]\n",
    "        sim = torch.matmul(self.sensitive_ideals, sim_set_features.T)\n",
    "        proba = (100 * sim).permute(2, 0, 1).softmax(dim=-1)[:, :, 0].to('cpu').numpy()\n",
    "        return proba\n",
    "\n",
    "    def _retrieve_distinct(self, sim_set, similarities, k, mode='max_sum'):\n",
    "        proba_concepts = self._get_sim_to_ideal(sim_set)\n",
    "        vals = proba_concepts\n",
    "        pca = PCA()\n",
    "        \n",
    "        if mode == 'max_sum': \n",
    "            VI=np.cov(vals, rowvar=False)\n",
    "            sim_set_edit = sim_set.detach().clone().numpy()\n",
    "            p_indices = [sim_set_edit[0]]\n",
    "            sim_set_edit = np.delete(sim_set_edit, 0)\n",
    "            p = [vals[0]]\n",
    "            vals = np.delete(vals, 0, axis=0)\n",
    "\n",
    "            distances = cdist(vals, p, 'mahalanobis', VI=VI)\n",
    "\n",
    "            while len(p) < k:\n",
    "                mean_distances = np.mean(distances, axis=1)\n",
    "                max_sum = np.argmax(mean_distances)\n",
    "                maximally_away = max_sum\n",
    "                p_indices.append(sim_set_edit[maximally_away])\n",
    "                p.append(vals[maximally_away])\n",
    "                distances = np.hstack((distances, cdist(vals, [vals[maximally_away]], 'mahalanobis', VI=VI)))\n",
    "                sim_set_edit = np.delete(sim_set_edit, maximally_away)\n",
    "                vals = np.delete(vals, maximally_away, axis=0)\n",
    "                distances = np.delete(distances, maximally_away, axis=0)\n",
    "        \n",
    "        if mode == 'euc_max_sum': \n",
    "            sim_set_edit = sim_set.detach().clone().numpy()\n",
    "            p_indices = [sim_set_edit[0]]\n",
    "            sim_set_edit = np.delete(sim_set_edit, 0)\n",
    "            p = [vals[0]]\n",
    "            vals = np.delete(vals, 0, axis=0)\n",
    "\n",
    "            distances = cdist(vals, p, 'euclidean')\n",
    "\n",
    "            while len(p) < k:\n",
    "                mean_distances = np.mean(distances, axis=1)\n",
    "                max_sum = np.argmax(mean_distances)\n",
    "                maximally_away = max_sum\n",
    "                p_indices.append(sim_set_edit[maximally_away])\n",
    "                p.append(vals[maximally_away])\n",
    "                distances = np.hstack((distances, cdist(vals, [vals[maximally_away]], 'euclidean')))\n",
    "                sim_set_edit = np.delete(sim_set_edit, maximally_away)\n",
    "                vals = np.delete(vals, maximally_away, axis=0)\n",
    "                distances = np.delete(distances, maximally_away, axis=0)\n",
    "\n",
    "        if mode == 'max_min':\n",
    "            VI=np.cov(vals, rowvar=False)\n",
    "            sim_set_edit = sim_set.detach().clone().numpy()\n",
    "            p_indices = [sim_set_edit[0]]\n",
    "            sim_set_edit = np.delete(sim_set_edit, 0)\n",
    "            p = [vals[0]]\n",
    "            vals = np.delete(vals, 0, axis=0)\n",
    "\n",
    "            distances = cdist(vals, p, 'mahalanobis', VI=VI)\n",
    "\n",
    "            while len(p) < k:\n",
    "                min_distances = np.min(distances, axis=1)\n",
    "                max_min = np.argmax(min_distances)\n",
    "                maximally_away = max_min\n",
    "                p_indices.append(sim_set_edit[maximally_away])\n",
    "                p.append(vals[maximally_away])\n",
    "                distances = np.hstack((distances, cdist(vals, [vals[maximally_away]], 'mahalanobis', VI=VI)))\n",
    "                sim_set_edit = np.delete(sim_set_edit, maximally_away)\n",
    "                vals = np.delete(vals, maximally_away, axis=0)\n",
    "                distances = np.delete(distances, maximally_away, axis=0)\n",
    "        \n",
    "        if mode == 'euc_max_min':\n",
    "            sim_set_edit = sim_set.detach().clone().numpy()\n",
    "            p_indices = [sim_set_edit[0]]\n",
    "            sim_set_edit = np.delete(sim_set_edit, 0)\n",
    "            p = [vals[0]]\n",
    "            vals = np.delete(vals, 0, axis=0)\n",
    "\n",
    "            distances = cdist(vals, p, 'euclidean')\n",
    "\n",
    "            while len(p) < k:\n",
    "                min_distances = np.min(distances, axis=1)\n",
    "                max_min = np.argmax(min_distances)\n",
    "                maximally_away = max_min\n",
    "                p_indices.append(sim_set_edit[maximally_away])\n",
    "                p.append(vals[maximally_away])\n",
    "                distances = np.hstack((distances, cdist(vals, [vals[maximally_away]], 'euclidean')))\n",
    "                sim_set_edit = np.delete(sim_set_edit, maximally_away)\n",
    "                vals = np.delete(vals, maximally_away, axis=0)\n",
    "                distances = np.delete(distances, maximally_away, axis=0)\n",
    "\n",
    "        if mode == 'random':\n",
    "            p_indices = np.random.choice(sim_set, k, replace = False)\n",
    "            \n",
    "            \n",
    "        if mode == \"feature_distances\":\n",
    "            vals = torch.index_select(self.features, 0, sim_set.to(self.device)).cpu().numpy()\n",
    "            sim_set_edit = sim_set.detach().clone().numpy()\n",
    "            p_indices = [sim_set_edit[0]]\n",
    "            sim_set_edit = np.delete(sim_set_edit, 0)\n",
    "            p = [vals[0]]\n",
    "            vals = np.delete(vals, 0, axis=0)\n",
    "\n",
    "            distances = cdist(vals, p, 'cosine')\n",
    "\n",
    "            while len(p) < k:\n",
    "                mean_distances = np.mean(distances, axis=1)\n",
    "                max_sum = np.argmax(mean_distances)\n",
    "                maximally_away = max_sum\n",
    "                p_indices.append(sim_set_edit[maximally_away])\n",
    "                p.append(vals[maximally_away])\n",
    "                distances = np.hstack((distances, cdist(vals, [vals[maximally_away]], 'cosine')))\n",
    "                sim_set_edit = np.delete(sim_set_edit, maximally_away)\n",
    "                vals = np.delete(vals, maximally_away, axis=0)\n",
    "                distances = np.delete(distances, maximally_away, axis=0)\n",
    "\n",
    "        if mode == 'true_labels':\n",
    "            vals = self._get_true_coordinates(sim_set)\n",
    "            VI=np.cov(vals, rowvar=False)\n",
    "            sim_set_edit = sim_set.detach().clone().numpy()\n",
    "            p_indices = [sim_set_edit[0]]\n",
    "            sim_set_edit = np.delete(sim_set_edit, 0)\n",
    "            p = [vals[0]]\n",
    "            vals = np.delete(vals, 0, axis=0)\n",
    "\n",
    "            distances = cdist(vals, p, 'mahalanobis', VI=VI)\n",
    "\n",
    "            while len(p) < k:\n",
    "                mean_distances = np.mean(distances, axis=1)\n",
    "                max_sum = np.argmax(mean_distances)\n",
    "                maximally_away = max_sum\n",
    "                p_indices.append(sim_set_edit[maximally_away])\n",
    "                p.append(vals[maximally_away])\n",
    "                distances = np.hstack((distances, cdist(vals, [vals[maximally_away]], 'mahalanobis', VI=VI)))\n",
    "                sim_set_edit = np.delete(sim_set_edit, maximally_away)\n",
    "                vals = np.delete(vals, maximally_away, axis=0)\n",
    "                distances = np.delete(distances, maximally_away, axis=0)\n",
    "\n",
    "        return p_indices\n",
    "    \n",
    "    def define_coordinate_mapping(self, columns, positive_labels, negative_labels):\n",
    "        self.true_coordinates = np.zeros((len(self.data), len(columns)))\n",
    "        self.coord_columns = columns\n",
    "        for i, column in enumerate(columns):\n",
    "            map_to_hypercube = lambda x: 1 if x in positive_labels[i] else (0 if x in negative_labels[i] else .5)\n",
    "            self.true_coordinates[:, i] = self.data[column].apply(map_to_hypercube)\n",
    "    \n",
    "    def _get_true_coordinates(self, sim_set):\n",
    "        return self.true_coordinates[sim_set] \n",
    "\n",
    "    \n",
    "    def distinct_retrival(self, query, k=10, max_sim_set=1000, tol=.06, method='max_sum', **kwargs) :\n",
    "        query_features = self._process_query(query)\n",
    "\n",
    "        similarities = (self.features @ query_features.T).flatten()\n",
    "        best = similarities.argsort(descending=True).cpu().flatten()\n",
    "\n",
    "        sim_set = self._calc_sim_set(best, similarities, k, max_sim_set, tol)\n",
    "        distinct_sort = self._retrieve_distinct(sim_set, similarities, k, mode=method)\n",
    "\n",
    "        coords = self._get_sim_to_ideal(sim_set)\n",
    "    \n",
    "        return self.data.iloc[distinct_sort], coords, self._get_sim_to_ideal(distinct_sort), self._get_sim_to_ideal(best[0:k])\n",
    "\n",
    "    def define_pbm_classes(self, classes):\n",
    "        self.pbm_classes=classes\n",
    "        prompts = [f\"A picture of a {c}.\" for c in classes]\n",
    "        if classes[0] == \"empty\":\n",
    "            prompts[0] == \"\"\n",
    "        tokens = clip.tokenize(prompts).to(self.device)\n",
    "        with torch.no_grad():\n",
    "            attributes_features = t_normalize(self.model.encode_text(tokens))\n",
    "        self.pbm_ideals = attributes_features\n",
    "        self.pbm_label = np.argmax((100 * torch.matmul(self.features, self.pbm_ideals.T)).softmax(dim=-1).to('cpu').numpy(), axis=-1)\n",
    "\n",
    "        return self\n",
    "\n",
    "    def pbm(self, query, k=10, eps=0, **kwargs):\n",
    "        query_features = self._process_query(query)\n",
    "        similarities = (self.features @ query_features.T).flatten()\n",
    "        best = similarities.argsort(descending=True).cpu().numpy().flatten()\n",
    "        np_sim = similarities.cpu().numpy()\n",
    "\n",
    "        p_indices = []\n",
    "\n",
    "        neutrals = [x for x in best if self.pbm_label[x] == 0]\n",
    "        classes = [[x for x in best if self.pbm_label[x]== i] for i in range(1, len(self.pbm_classes))]\n",
    "\n",
    "    \n",
    "        while len(p_indices) < k:\n",
    "            if random.random() < eps:\n",
    "                try:\n",
    "                    neutral_sim = np_sim[neutrals[0]]\n",
    "                except:\n",
    "                    neutral_sim = -1\n",
    "                \n",
    "                max_class, idx = 0, 0\n",
    "                for i, c in enumerate(classes):\n",
    "                    try:\n",
    "                        class_sim = np_sim[c[0]]\n",
    "                    except:\n",
    "                        class_sim = -1\n",
    "                    if class_sim > max_class:\n",
    "                        max_class = class_sim\n",
    "                        idx = i\n",
    "                if max_class > neutral_sim:\n",
    "                    p_indices.append(classes[idx][0])\n",
    "                    classes[idx].pop(0)\n",
    "                else:\n",
    "                    p_indices.append(neutrals[0])\n",
    "                    neutrals.pop(0)\n",
    "                        \n",
    "            else:\n",
    "                best_neutral = neutrals[0]\n",
    "                best_for_classes = [fon(c) for c in classes]\n",
    "                best_for_classes_vals = [c for c in best_for_classes if c is not None]\n",
    "\n",
    "                similarities_for_classes = [np_sim[x] for x in best_for_classes_vals]\n",
    "                avg_sim = np.mean(similarities_for_classes)\n",
    "                neutral_sim = similarities[best_neutral]\n",
    "\n",
    "                if avg_sim > neutral_sim:\n",
    "                    if len(p_indices) + len(best_for_classes_vals) > k:\n",
    "                        best_for_classes_vals = random.choices(best_for_classes_vals, k=k-len(p_indices))\n",
    "                    p_indices += best_for_classes_vals\n",
    "\n",
    "                    for i, x in enumerate(best_for_classes):\n",
    "                        if x is not None:\n",
    "                            classes[i].pop(0)\n",
    "                else:\n",
    "                    p_indices.append(best_neutral)\n",
    "                    neutrals.pop(0)\n",
    "        \n",
    "        return self.data.iloc[p_indices]\n",
    "\n",
    "    def add_clipclip_ordering(self, name, ordering):\n",
    "        self.clipclip_orderings[name] = ordering.copy()\n",
    "        return self\n",
    "    \n",
    "    def clip_clip(self, query, ordering, n_to_clip, k=10, **kwargs):\n",
    "        query_features = self._process_query(query)\n",
    "        clip_ordering = self.clipclip_orderings[ordering]\n",
    "        clip_features = torch.index_select(self.features, 1, torch.tensor(clip_ordering[n_to_clip:]).to(self.device))\n",
    "        clip_query = torch.index_select(query_features, 1, torch.tensor(clip_ordering[n_to_clip:]).to(self.device))\n",
    "\n",
    "        similarities = (clip_features @ clip_query.T).flatten()\n",
    "        best = similarities.argsort(descending=True).cpu().flatten()\n",
    "        return self.data.iloc[best[:k]]\n",
    "    \n",
    "image_database = ImageDatabase(features, data, model, preprocess, device)\n",
    "image_database.sensitive_attributes([(\"A picture of a man\", \"A picture of a woman\"), (\"A picture of a light-skinned person\", \"A picture of a dark-skinned person\")])\n",
    "\n",
    "res, sim = image_database.search(\"This is a picture of a Dentist.\", k=25)\n",
    "hp = sim.sort(descending=True).values[0:25].mean().cpu().numpy()\n",
    "print(hp)\n",
    "\n",
    "plt.hist(sim.cpu().numpy(), bins=50)\n",
    "plt.axvline(x=hp, color='red', linestyle='--')\n",
    "plt.axvline(x=hp-.02, color='green', linestyle='--')\n",
    "plt.xlabel('Similarity', weight='bold')\n",
    "plt.ylabel('Frequency', weight='bold')\n",
    "plt.title('Histogram of Similarities for Dentist Query', weight='bold')\n",
    "plt.grid()\n",
    "plt.show()\n",
    "\n",
    "\n",
    "res, coords, P, tk = image_database.distinct_retrival(\"This is a picture of a Dentist.\", tol=.02, k=25, method='max_sum')\n",
    "\n",
    "plt.scatter(coords[:, 0], coords[:, 1], label='Images in Sim Set')\n",
    "plt.scatter(P[:,0], P[:, 1], label='Returned Images')\n",
    "#plt.scatter(tk[:,0], tk[:, 1], label='Top K Images', alpha=.3)\n",
    "plt.xlabel(\"Gender\", weight='bold')\n",
    "plt.ylabel(\"Skin-Tone\", weight='bold')\n",
    "plt.title(\"Plot of Concept Space for Dentist Query\", weight='bold')\n",
    "plt.grid()\n",
    "plt.xlim(0, 1)\n",
    "plt.ylim(0, 1)\n",
    "plt.show()\n",
    "\n",
    "print(res)\n",
    "\n"
   ]
  },
  {
   "cell_type": "code",
   "execution_count": 42,
   "metadata": {},
   "outputs": [
    {
     "name": "stdout",
     "output_type": "stream",
     "text": [
      "Starting analysis for method: PBM_five_attributes...\n"
     ]
    },
    {
     "name": "stderr",
     "output_type": "stream",
     "text": [
      "  0%|          | 0/4 [00:00<?, ?it/s]"
     ]
    }
   ],
   "source": [
    "image_database = ImageDatabase(features, data, model, preprocess, device)\n",
    "indistinguisable_values = [[cat] for cat in catagories]\n",
    "totals_by_cat = {cat: len(data[data['search_term'] == cat]) for cat in catagories}\n",
    "true_rates = [[data[data['search_term'] == cat].iloc[0].search_p_women for cat in catagories], [data[data['search_term'] == cat].iloc[0].search_p_dark for cat in catagories]]\n",
    "image_database.define_coordinate_mapping(['gender', 'skintone'], [['man'], ['light']], [['woman'], ['dark']])\n",
    "\n",
    "debias_database = ImageDatabase(features_debias, data, model_debias, preprocess_debias, device_d)\n",
    "\n",
    "image_database.add_clipclip_ordering(\"gender\", np.load('datasets/MI_orders/gender.npy'))\n",
    "image_database.add_clipclip_ordering(\"skintone\", np.load('datasets/MI_orders/skintone.npy'))\n",
    "image_database.add_clipclip_ordering(\"intersectional\", np.load('datasets/MI_orders/gender_skintone.npy'))\n",
    "image_database.add_clipclip_ordering(\"three_attr\", np.load('datasets/MI_orders/intersectional.npy'))\n",
    "\n",
    "\n",
    "method_name_specification_list = [\n",
    "    (lambda k, tol: lambda x: image_database.search(x, k), 'Baseline', []),\n",
    "    (lambda k, tol: lambda x: image_database.distinct_retrival(x, k, tol=tol, method='max_sum'), 'CDI_Sum_gender', [(\"sensitive_attributes\", [(\"A picture of a man\", \"A picture of a woman\")])]),\n",
    "    (lambda k, tol: lambda x: image_database.distinct_retrival(x, k, tol=tol, method='max_sum'), 'CDI_Sum_intersectional', [(\"sensitive_attributes\", [(\"A picture of a man\", \"A picture of a woman\"), (\"A picture of a light-skinned person\", \"A picture of a dark-skinned person\")])]),\n",
    "    (lambda k, tol: lambda x: image_database.distinct_retrival(x, k, tol=tol, method='max_sum'), 'CDI_Sum_skintone', [(\"sensitive_attributes\", [(\"A picture of a light-skinned person\", \"A picture of a dark-skinned person\")])]),\n",
    "    (lambda k, tol: lambda x: image_database.distinct_retrival(x, k, tol=tol, method='max_sum'), 'CDI_Sum_3_attr', [(\"sensitive_attributes\", [(\"A picture of a man\", \"A picture of a woman\"), (\"A picture of a light-skinned person\", \"A picture of a dark-skinned person\"), (\"A picture of an old person\", \"A picture of a young person\")])]),\n",
    "    (lambda k, tol: lambda x: image_database.distinct_retrival(x, k, tol=tol, method='max_sum'), 'CDI_Sum_4_attr', [(\"sensitive_attributes\", [(\"A picture of a man\", \"A picture of a woman\"), (\"A picture of a light-skinned person\", \"A picture of a dark-skinned person\"), (\"A picture of an old person\", \"A picture of a young person\"), (\"A picture of an American person\", \"A picture of a non-American person\")])]),\n",
    "\n",
    "    (lambda k, tol: lambda x: image_database.distinct_retrival(x, k, tol=tol, method='max_min'), 'CDI_Min_gender', [(\"sensitive_attributes\", [(\"A picture of a man\", \"A picture of a woman\")])]),\n",
    "    (lambda k, tol: lambda x: image_database.distinct_retrival(x, k, tol=tol, method='max_min'), 'CDI_Min_intersectional', [(\"sensitive_attributes\", [(\"A picture of a man\", \"A picture of a woman\"), (\"A picture of a light-skinned person\", \"A picture of a dark-skinned person\")])]),\n",
    "    (lambda k, tol: lambda x: image_database.distinct_retrival(x, k, tol=tol, method='max_min'), 'CDI_Min_skintone', [(\"sensitive_attributes\", [(\"A picture of a light-skinned person\", \"A picture of a dark-skinned person\")])]),\n",
    "    (lambda k, tol: lambda x: image_database.distinct_retrival(x, k, tol=tol, method='max_min'), 'CDI_Min_3_attr', [(\"sensitive_attributes\", [(\"A picture of a man\", \"A picture of a woman\"), (\"A picture of a light-skinned person\", \"A picture of a dark-skinned person\"), (\"A picture of an old person\", \"A picture of a young person\")])]),\n",
    "    (lambda k, tol: lambda x: image_database.distinct_retrival(x, k, tol=tol, method='max_min'), 'CDI_Min_4_attr', [(\"sensitive_attributes\", [(\"A picture of a man\", \"A picture of a woman\"), (\"A picture of a light-skinned person\", \"A picture of a dark-skinned person\"), (\"A picture of an old person\", \"A picture of a young person\"), (\"A picture of an American person\", \"A picture of a non-American person\")])]),\n",
    "\n",
    "    (lambda k, tol: lambda x: image_database.distinct_retrival(x, k, tol=tol, method='random'), 'CDI_Random', [(\"sensitive_attributes\", [(\"A picture of a man\", \"A picture of a woman\")])]),\n",
    "    (lambda k, tol: lambda x: image_database.distinct_retrival(x, k, tol=tol, method='feature_distances'), 'CDI_Features', []),\n",
    "    (lambda k, tol: lambda x: image_database.distinct_retrival(x, k, tol=tol, method='true_labels'), 'CDI_TrueConcept', []),\n",
    "    \n",
    "    (lambda k, eps: lambda x: image_database.pbm(x, k, eps=eps), 'PBM_gender', [(\"pbm_classes\", [\"unknown gender\", \"man\", \"woman\"])]),\n",
    "    (lambda k, eps: lambda x: image_database.pbm(x, k, eps=eps), 'PBM_intersectional', [(\"pbm_classes\", [\"unknown gender and skin-tone\", \"light-skinned man\", \"light-skinned woman\", \"dark-skinned man\", \"dark-skinned woman\"])]),\n",
    "    (lambda k, eps: lambda x: image_database.pbm(x, k, eps=eps), 'PBM_skintone', [(\"pbm_classes\", [\"unknown skin-tone\", \"light-skinned person\", \"dark-skinned person\"])]),\n",
    "    (lambda k, eps: lambda x: image_database.pbm(x, k, eps=eps), 'PBM_three_attributes', [(\"pbm_classes\", intersections_for_pbm([[\"light-skinned\", \"dark-skinned\"], [\"old\", \"young\"], [\"man\", \"woman\"]], \"an unknown skin-tone, age, and gender\", \"\"))]),\n",
    "    (lambda k, eps: lambda x: image_database.pbm(x, k, eps=eps), 'PBM_four_attributes', [(\"pbm_classes\", intersections_for_pbm([[\"light-skinned\", \"dark-skinned\"], [\"old\", \"young\"], [\"American\", \"non-American\"], [\"man\", \"woman\"]], \"an unknown skin-tone, age, nationality, and gender\", \"\"))]),\n",
    "    \n",
    "    (lambda k, n: lambda x: image_database.clip_clip(x, \"gender\", n, k), 'CLIP_gender', []),\n",
    "    (lambda k, n: lambda x: image_database.clip_clip(x, \"skintone\", n, k), 'CLIP_skintone', []),\n",
    "    (lambda k, n: lambda x: image_database.clip_clip(x, \"intersectional\", n, k), 'CLIP_intersectional', []),\n",
    "    (lambda k, n: lambda x: image_database.clip_clip(x, \"three_attr\", n, k), 'CLIP_three_attributes', []),\n",
    "\n",
    "    (lambda k, tol: lambda x: debias_database.search(x, k), 'DebiasClip', []),\n",
    "\n",
    "    (lambda k, tol: lambda x: image_database.distinct_retrival(x, k, tol=tol, method='euc_max_sum'), 'CDI_EucSum_3_attr', [(\"sensitive_attributes\", [(\"A picture of a man\", \"A picture of a woman\"), (\"A picture of a light-skinned person\", \"A picture of a dark-skinned person\"), (\"A picture of an old person\", \"A picture of a young person\")])]),\n",
    "    (lambda k, tol: lambda x: image_database.distinct_retrival(x, k, tol=tol, method='euc_max_sum'), 'CDI_EucSum_intersectional', [(\"sensitive_attributes\", [(\"A picture of a man\", \"A picture of a woman\"), (\"A picture of a light-skinned person\", \"A picture of a dark-skinned person\")])]),\n",
    "    (lambda k, tol: lambda x: image_database.distinct_retrival(x, k, tol=tol, method='euc_max_min'), 'CDI_EucMin_3_attr', [(\"sensitive_attributes\", [(\"A picture of a man\", \"A picture of a woman\"), (\"A picture of a light-skinned person\", \"A picture of a dark-skinned person\"), (\"A picture of an old person\", \"A picture of a young person\")])]),\n",
    "    (lambda k, tol: lambda x: image_database.distinct_retrival(x, k, tol=tol, method='euc_max_min'), 'CDI_EucMin_intersectional', [(\"sensitive_attributes\", [(\"A picture of a man\", \"A picture of a woman\"), (\"A picture of a light-skinned person\", \"A picture of a dark-skinned person\")])])\n",
    "]\n",
    "\n",
    "\n",
    "\n",
    "all_sensitive_pairs = [(\"A picture of a man\", \"A picture of a woman\"), (\"A picture of a light-skinned person\", \"A picture of a dark-skinned person\"), (\"A picture of an old person\", \"A picture of a young person\"), (\"A picture of an American person\", \"A picture of a non-American person\"), (\"A picture of a abled-bodied person\", \"A picture of a disabled person\"), (\"A picture of a religious person\", \"A picture of a non-religious person\"), (\"A picture of a veteran\", \"A picture of someone who is not a veteran\"), (\"A picture of a straight person\", \"A picture of a LGBT person\")]\n",
    "overconcepted_pairs = [(\"A picture of a man\", \"A picture of a woman\"), (\"A picture of someone masculine\", \"A picture of someone feminine\"), (\"A picture of a male\", \"A picture of a female\"), (\"A picture of a light-skinned person\", \"A picture of a dark-skinned person\")]\n",
    "\n",
    "method_name_specification_list = [\n",
    "    (lambda k, tol: lambda x: image_database.search(x, k), 'Baseline', []),\n",
    "    (lambda k, tol: lambda x: image_database.distinct_retrival(x, k, tol=tol, method='max_min'), 'CDI_Min_3_attr', [(\"sensitive_attributes\", [(\"A picture of a man\", \"A picture of a woman\"), (\"A picture of a light-skinned person\", \"A picture of a dark-skinned person\"), (\"A picture of an old person\", \"A picture of a young person\")])]),\n",
    "    (lambda k, tol: lambda x: image_database.distinct_retrival(x, k, tol=tol, method='max_min'), 'CDI_Min_6_attr', [(\"sensitive_attributes\", all_sensitive_pairs[:6])]),\n",
    "    (lambda k, tol: lambda x: image_database.distinct_retrival(x, k, tol=tol, method='max_min'), 'CDI_Min_8_attr', [(\"sensitive_attributes\", all_sensitive_pairs)]),\n",
    "    (lambda k, tol: lambda x: image_database.distinct_retrival(x, k, tol=tol, method='max_sum'), 'CDI_Sum_3_attr', [(\"sensitive_attributes\", [(\"A picture of a man\", \"A picture of a woman\"), (\"A picture of a light-skinned person\", \"A picture of a dark-skinned person\"), (\"A picture of an old person\", \"A picture of a young person\")])]),\n",
    "    (lambda k, tol: lambda x: image_database.distinct_retrival(x, k, tol=tol, method='max_sum'), 'CDI_Sum_6_attr', [(\"sensitive_attributes\", all_sensitive_pairs[:6])]),\n",
    "    (lambda k, tol: lambda x: image_database.distinct_retrival(x, k, tol=tol, method='max_sum'), 'CDI_Sum_8_attr', [(\"sensitive_attributes\", all_sensitive_pairs)]),\n",
    "    (lambda k, tol: lambda x: image_database.distinct_retrival(x, k, tol=tol, method='euc_max_min'), 'CDI_EucMin_3_attr', [(\"sensitive_attributes\", [(\"A picture of a man\", \"A picture of a woman\"), (\"A picture of a light-skinned person\", \"A picture of a dark-skinned person\"), (\"A picture of an old person\", \"A picture of a young person\")])]),\n",
    "    (lambda k, tol: lambda x: image_database.distinct_retrival(x, k, tol=tol, method='euc_max_min'), 'CDI_EucMin_6_attr', [(\"sensitive_attributes\", all_sensitive_pairs[:6])]),\n",
    "    (lambda k, tol: lambda x: image_database.distinct_retrival(x, k, tol=tol, method='euc_max_min'), 'CDI_EucMin_8_attr', [(\"sensitive_attributes\", all_sensitive_pairs)]),\n",
    "    (lambda k, tol: lambda x: image_database.distinct_retrival(x, k, tol=tol, method='euc_max_sum'), 'CDI_EucSum_3_attr', [(\"sensitive_attributes\", [(\"A picture of a man\", \"A picture of a woman\"), (\"A picture of a light-skinned person\", \"A picture of a dark-skinned person\"), (\"A picture of an old person\", \"A picture of a young person\")])]),\n",
    "    (lambda k, tol: lambda x: image_database.distinct_retrival(x, k, tol=tol, method='euc_max_sum'), 'CDI_EucSum_6_attr', [(\"sensitive_attributes\", all_sensitive_pairs[:6])]),\n",
    "    (lambda k, tol: lambda x: image_database.distinct_retrival(x, k, tol=tol, method='euc_max_sum'), 'CDI_EucSum_8_attr', [(\"sensitive_attributes\", all_sensitive_pairs)]),\n",
    "\n",
    "\n",
    "    (lambda k, tol: lambda x: image_database.distinct_retrival(x, k, tol=tol, method='max_min'), 'CDI_Min_overconcept', [(\"sensitive_attributes\", overconcepted_pairs)]),\n",
    "    (lambda k, tol: lambda x: image_database.distinct_retrival(x, k, tol=tol, method='max_sum'), 'CDI_Sum_overconcept', [(\"sensitive_attributes\", overconcepted_pairs)]),\n",
    "    (lambda k, tol: lambda x: image_database.distinct_retrival(x, k, tol=tol, method='euc_max_min'), 'CDI_EucMin_overconcept', [(\"sensitive_attributes\", overconcepted_pairs)]),\n",
    "    (lambda k, tol: lambda x: image_database.distinct_retrival(x, k, tol=tol, method='euc_max_sum'), 'CDI_EucSum_overconcept', [(\"sensitive_attributes\", overconcepted_pairs)]),\n",
    "\n",
    "]\n",
    "\n",
    "method_name_specification_list = [\n",
    "    (lambda k, eps: lambda x: image_database.pbm(x, k, eps=eps), 'PBM_five_attributes', [(\"pbm_classes\", intersections_for_pbm([[\"light-skinned\", \"dark-skinned\"], [\"old\", \"young\"], [\"American\", \"non-American\"], [\"abled-bodied\", \"disabled\"], [\"man\", \"woman\"]], \"an unknown skin-tone, age, nationality, disability status, and gender\", \"\"))]),\n",
    "\n",
    "]\n",
    "\n",
    "\n",
    "ks = [10, 25, 50, 100] # [10, 25, 50, 100] \n",
    "\n",
    "number_of_tol_steps = 16 # 16\n",
    "number_of_eps_steps = 11 # 11\n",
    "number_of_clip_clip_steps = 24 #24\n",
    "random_iters = 4\n",
    "\n",
    "result_dicts = []\n",
    "\n",
    "for method, name, spec in method_name_specification_list:\n",
    "    print(f\"Starting analysis for method: {name}...\")\n",
    "    for s, val in spec:\n",
    "        if s == \"sensitive_attributes\":\n",
    "            image_database.sensitive_attributes(val)\n",
    "        if s == \"pbm_classes\":\n",
    "            image_database.define_pbm_classes(val)\n",
    "    for k in tqdm(ks):\n",
    "        result_dict = {'name': name}\n",
    "\n",
    "        if name in ['Baseline', \"DebiasClip\"]:\n",
    "            steps = 1\n",
    "        else:\n",
    "            steps = number_of_tol_steps\n",
    "\n",
    "        if name[0:3] == 'PBM':\n",
    "            for e in reversed(range(0, number_of_eps_steps)):\n",
    "                eps = e / (number_of_eps_steps - 1)\n",
    "                retrieval_function = method(k, eps)\n",
    "                new_dict = result_dict.copy()\n",
    "                random_results = []\n",
    "                for i in range(random_iters):\n",
    "                    new_dict = result_dict.copy()\n",
    "                    run_analysis(retrieval_function, k, eps, new_dict, catagories, 'search_term', indistinguisable_values, ['gender', 'skintone'], [['Female'], ['dark']], [['Male'], ['light']], true_rates, totals_by_cat)\n",
    "                    random_results.append(new_dict)\n",
    "                \n",
    "                add_dict = result_dict.copy()\n",
    "                for key in random_results[0].keys():\n",
    "                    if key == 'name':\n",
    "                        continue\n",
    "                    add_dict[key] = np.mean([res[key] for res in random_results], axis=0)\n",
    "                result_dicts.append(add_dict)\n",
    "\n",
    "        elif name[0:4] == 'CLIP':\n",
    "            for e in range(0, number_of_clip_clip_steps):\n",
    "                n = e * 20\n",
    "                retrieval_function = method(k, n)\n",
    "                new_dict = result_dict.copy()\n",
    "                run_analysis(retrieval_function, k, n, new_dict, catagories, 'search_term', indistinguisable_values, ['gender', 'skintone'], [['Female'], ['dark']], [['Male'], ['light']], true_rates, totals_by_cat)\n",
    "                result_dicts.append(new_dict)\n",
    "        else:\n",
    "            for t in range(0, steps):\n",
    "                if steps == 1:\n",
    "                    tol = None\n",
    "                else:\n",
    "                    tol = t / 200\n",
    "                retrieval_function = method(k, tol)\n",
    "                new_dict = result_dict.copy()\n",
    "                if name == \"CDI_Random\":\n",
    "                    random_results = []\n",
    "                    for i in range(random_iters):\n",
    "                        new_dict = result_dict.copy()\n",
    "                        run_analysis(retrieval_function, k, tol, new_dict, catagories, 'search_term', indistinguisable_values,  ['gender', 'skintone'], [['Female'], ['dark']], [['Male'], ['light']], true_rates, totals_by_cat)\n",
    "                        random_results.append(new_dict)\n",
    "                    new_dict = result_dict.copy()\n",
    "\n",
    "                    for key in random_results[0].keys():\n",
    "                        if key == 'name':\n",
    "                            continue\n",
    "                        new_dict[key] = np.mean([res[key] for res in random_results], axis=0)\n",
    "                else:\n",
    "                    run_analysis(retrieval_function, k, tol, new_dict, catagories, 'search_term', indistinguisable_values, ['gender', 'skintone'], [['Female'], ['dark']], [['Male'], ['light']], true_rates, totals_by_cat)\n",
    "                result_dicts.append(new_dict)\n",
    "\n",
    "df = parse_analysis(result_dicts, ['gender', 'skintone'])\n",
    "\n",
    "print(df)\n",
    "\n",
    "df.to_pickle(\"results/occ2-pbm-five-concepts.pkl\")\n",
    "        "
   ]
  },
  {
   "cell_type": "code",
   "execution_count": 4,
   "metadata": {},
   "outputs": [],
   "source": [
    "def plot_across_tol(df, k, method_names, axis1, axis2, xlabel=None, ylabel=None, title=None, reverse_x = False):\n",
    "    relevant_k = df[df['k'] == k]\n",
    "\n",
    "    for method in method_names:\n",
    "        data_for_method = relevant_k[relevant_k['name'] == method]\n",
    "        d1 = data_for_method[axis1]\n",
    "        d2 = data_for_method[axis2]\n",
    "\n",
    "        if method in [\"Baseline\", \"DebiasClip\"]:\n",
    "            plt.scatter(d1, d2, label=method)\n",
    "        else:\n",
    "            plt.plot(d1, d2, label=method)\n",
    "    plt.legend()\n",
    "    if xlabel is not None:\n",
    "        plt.xlabel(xlabel)\n",
    "    else:\n",
    "        plt.xlabel(axis1)\n",
    "    if ylabel is not None:\n",
    "        plt.ylabel(ylabel)\n",
    "    else:\n",
    "        plt.ylabel(axis2)\n",
    "    if title is not None:\n",
    "        plt.title(title)\n",
    "    else:\n",
    "        plt.title(f\"Graph of {axis2} over {axis1} @ {k}\")\n",
    "    if reverse_x:\n",
    "        plt.gca().invert_xaxis()\n",
    "    plt.grid()\n",
    "    plt.show()\n"
   ]
  },
  {
   "cell_type": "code",
   "execution_count": null,
   "metadata": {},
   "outputs": [],
   "source": [
    "#method_names = df['name'].unique()\n",
    "df = pd.read_pickle(\"results/occ2-3-23.pkl\")\n",
    "\n",
    "method_names = ['DebiasClip', 'CDI_Min_intersectional', 'CDI_Sum_intersectional', 'CDI_Min_4_attr', 'CDI_Sum_4_attr', 'PBM_intersectional', 'CLIP_intersectional', 'PBM_four_attributes', 'Baseline']\n",
    "\n",
    "for k in [10, 25, 50, 100]:\n",
    "    plot_across_tol(df, k, method_names, 'Avg_AbsBias_gender', 'Avg_Precision', reverse_x=True)\n",
    "    #plot_across_tol(df, k, method_names, 'Avg_Bias_gender', 'Avg_Precision', reverse_x=False)\n",
    "    #plot_across_tol(df, k, method_names, 'Avg_Skew_gender', 'Avg_Precision', reverse_x=False)\n",
    "    #plot_across_tol(df, k, method_names, 'Avg_AbsBias_gender', 'Avg_Recall', reverse_x=True)\n",
    "    #plot_across_tol(df, k, method_names, 'Avg_Bias_gender', 'Avg_Recall', reverse_x=False)\n",
    "    plot_across_tol(df, k, method_names, 'Avg_AbsBias_for_Accurate_gender', 'Avg_Precision', reverse_x=True)\n",
    "    plot_across_tol(df, k, method_names, 'Avg_Max_MC_Bias', 'Avg_Precision', reverse_x=True)"
   ]
  },
  {
   "cell_type": "code",
   "execution_count": 23,
   "metadata": {},
   "outputs": [
    {
     "name": "stdout",
     "output_type": "stream",
     "text": [
      "                                     method                       name    tol  \\\n",
      "0              CDI_EucSum_3_attr (tol: 0.0)          CDI_EucSum_3_attr  0.000   \n",
      "1            CDI_EucSum_3_attr (tol: 0.005)          CDI_EucSum_3_attr  0.005   \n",
      "2             CDI_EucSum_3_attr (tol: 0.01)          CDI_EucSum_3_attr  0.010   \n",
      "3            CDI_EucSum_3_attr (tol: 0.015)          CDI_EucSum_3_attr  0.015   \n",
      "4             CDI_EucSum_3_attr (tol: 0.02)          CDI_EucSum_3_attr  0.020   \n",
      "..                                      ...                        ...    ...   \n",
      "251  CDI_EucMin_intersectional (tol: 0.055)  CDI_EucMin_intersectional  0.055   \n",
      "252   CDI_EucMin_intersectional (tol: 0.06)  CDI_EucMin_intersectional  0.060   \n",
      "253  CDI_EucMin_intersectional (tol: 0.065)  CDI_EucMin_intersectional  0.065   \n",
      "254   CDI_EucMin_intersectional (tol: 0.07)  CDI_EucMin_intersectional  0.070   \n",
      "255  CDI_EucMin_intersectional (tol: 0.075)  CDI_EucMin_intersectional  0.075   \n",
      "\n",
      "       k  Avg_Precision  Avg_Recall  Avg_PutI  Avg_AbsBias_gender  \\\n",
      "0     10       0.652083    0.065220  0.652083            0.536458   \n",
      "1     10       0.651042    0.065117  0.651042            0.519792   \n",
      "2     10       0.625000    0.062513  0.625000            0.440625   \n",
      "3     10       0.575000    0.057513  0.575000            0.384375   \n",
      "4     10       0.534375    0.053450  0.534375            0.330208   \n",
      "..   ...            ...         ...       ...                 ...   \n",
      "251  100       0.122812    0.122841  0.122812            0.098750   \n",
      "252  100       0.111979    0.112007  0.111979            0.085833   \n",
      "253  100       0.103542    0.103567  0.103542            0.082812   \n",
      "254  100       0.097396    0.097412  0.097396            0.078958   \n",
      "255  100       0.095000    0.095015  0.095000            0.079271   \n",
      "\n",
      "     Avg_Bias_gender  Avg_Skew_gender  Avg_Abs_Skew_gender  \\\n",
      "0          -0.230208         0.245081             0.570942   \n",
      "1          -0.232292         0.253799             0.559433   \n",
      "2          -0.203125         0.360059             0.541972   \n",
      "3          -0.194792         0.409576             0.561051   \n",
      "4          -0.190625         0.476194             0.592544   \n",
      "..               ...              ...                  ...   \n",
      "251        -0.080833         0.539839             0.749626   \n",
      "252        -0.071042         0.550791             0.771283   \n",
      "253        -0.067812         0.558348             0.779455   \n",
      "254        -0.065417         0.556130             0.777702   \n",
      "255        -0.066146         0.558340             0.783509   \n",
      "\n",
      "     Avg_AbsBias_for_Accurate_gender  Avg_AbsBias_skintone  Avg_Bias_skintone  \\\n",
      "0                           0.498714              0.605208          -0.601042   \n",
      "1                           0.509644              0.605208          -0.603125   \n",
      "2                           0.471230              0.598958          -0.596875   \n",
      "3                           0.430977              0.565625          -0.565625   \n",
      "4                           0.452286              0.564583          -0.558333   \n",
      "..                               ...                   ...                ...   \n",
      "251                         0.257331              0.435938          -0.435938   \n",
      "252                         0.235574              0.427812          -0.427812   \n",
      "253                         0.248766              0.428021          -0.428021   \n",
      "254                         0.240630              0.421875          -0.421875   \n",
      "255                         0.244972              0.422813          -0.422813   \n",
      "\n",
      "     Avg_Skew_skintone  Avg_Abs_Skew_skintone  \\\n",
      "0             0.353925               0.549994   \n",
      "1             0.353925               0.549994   \n",
      "2             0.379771               0.561569   \n",
      "3             0.469589               0.639120   \n",
      "4             0.516876               0.658044   \n",
      "..                 ...                    ...   \n",
      "251           0.340477               0.495686   \n",
      "252           0.359026               0.510626   \n",
      "253           0.345536               0.522467   \n",
      "254           0.370226               0.515528   \n",
      "255           0.369319               0.516693   \n",
      "\n",
      "     Avg_AbsBias_for_Accurate_skintone  Avg_Max_MC_Bias  Max_AbsBias  \n",
      "0                             0.550384         0.565625     0.605208  \n",
      "1                             0.558007         0.558333     0.605208  \n",
      "2                             0.526509         0.527083     0.598958  \n",
      "3                             0.501356         0.491667     0.565625  \n",
      "4                             0.550517         0.469792     0.564583  \n",
      "..                                 ...              ...          ...  \n",
      "251                           0.357503         0.258021     0.435938  \n",
      "252                           0.349975         0.249792     0.427812  \n",
      "253                           0.354152         0.247708     0.428021  \n",
      "254                           0.346320         0.244062     0.421875  \n",
      "255                           0.345038         0.245313     0.422813  \n",
      "\n",
      "[256 rows x 19 columns]\n",
      "                                method                   name  tol      k  \\\n",
      "0                             Baseline               Baseline  NaN   10.0   \n",
      "1                             Baseline               Baseline  NaN   25.0   \n",
      "2                             Baseline               Baseline  NaN   50.0   \n",
      "3                             Baseline               Baseline  NaN  100.0   \n",
      "4            CDI_Sum_gender (tol: 0.0)         CDI_Sum_gender  0.0   10.0   \n",
      "...                                ...                    ...  ...    ...   \n",
      "1439  CLIP_three_attributes (tol: 0.0)  CLIP_three_attributes  0.0  100.0   \n",
      "1440                        DebiasClip             DebiasClip  NaN   10.0   \n",
      "1441                        DebiasClip             DebiasClip  NaN   25.0   \n",
      "1442                        DebiasClip             DebiasClip  NaN   50.0   \n",
      "1443                        DebiasClip             DebiasClip  NaN  100.0   \n",
      "\n",
      "      Avg_Precision  Avg_Recall  Avg_PutI  Avg_AbsBias_gender  \\\n",
      "0          0.652083    0.065220  0.652083            0.536458   \n",
      "1          0.547083    0.136799  0.547083            0.478750   \n",
      "2          0.473750    0.236928  0.473750            0.457708   \n",
      "3          0.371354    0.371430  0.371354            0.425833   \n",
      "4          0.652083    0.065220  0.652083            0.536458   \n",
      "...             ...         ...       ...                 ...   \n",
      "1439       0.017708    0.001771  0.017708            0.203125   \n",
      "1440       0.745833    0.074595  0.745833            0.433333   \n",
      "1441       0.670417    0.167634  0.670417            0.416667   \n",
      "1442       0.599375    0.299742  0.599375            0.400833   \n",
      "1443       0.484583    0.484672  0.484583            0.373854   \n",
      "\n",
      "      Avg_Bias_gender  Avg_Skew_gender  Avg_Abs_Skew_gender  \\\n",
      "0           -0.230208         0.245081             0.570942   \n",
      "1           -0.222083         0.069892             0.493593   \n",
      "2           -0.214792         0.047793             0.472422   \n",
      "3           -0.213958         0.154675             0.432229   \n",
      "4           -0.230208         0.245081             0.570942   \n",
      "...               ...              ...                  ...   \n",
      "1439        -0.203125        -0.524174             0.942048   \n",
      "1440        -0.104167         0.282474             0.506028   \n",
      "1441        -0.127500         0.078367             0.431804   \n",
      "1442        -0.117917         0.056191             0.420751   \n",
      "1443        -0.121563         0.163762             0.409404   \n",
      "\n",
      "      Avg_AbsBias_for_Accurate_gender  Avg_AbsBias_skintone  \\\n",
      "0                            0.498714              0.605208   \n",
      "1                            0.474655              0.614167   \n",
      "2                            0.442284              0.604375   \n",
      "3                            0.427962              0.604063   \n",
      "4                            0.498714              0.605208   \n",
      "...                               ...                   ...   \n",
      "1439                         0.016667              0.020833   \n",
      "1440                         0.445168              0.525000   \n",
      "1441                         0.398755              0.537500   \n",
      "1442                         0.387909              0.538958   \n",
      "1443                         0.376367              0.535312   \n",
      "\n",
      "      Avg_Bias_skintone  Avg_Skew_skintone  Avg_Abs_Skew_skintone  \\\n",
      "0             -0.601042           0.353925               0.549994   \n",
      "1             -0.614167          -0.074334               0.588834   \n",
      "2             -0.604375          -0.070027               0.573957   \n",
      "3             -0.604063           0.055193               0.457419   \n",
      "4             -0.601042           0.353925               0.549994   \n",
      "...                 ...                ...                    ...   \n",
      "1439          -0.018750           0.143067               0.500227   \n",
      "1440          -0.520833           0.382871               0.559841   \n",
      "1441          -0.536667          -0.027703               0.505881   \n",
      "1442          -0.538125          -0.102345               0.489695   \n",
      "1443          -0.535312          -0.024052               0.389917   \n",
      "\n",
      "      Avg_AbsBias_for_Accurate_skintone  Avg_Max_MC_Bias  Max_AbsBias  \n",
      "0                              0.550384         0.565625     0.605208  \n",
      "1                              0.547621         0.538333     0.614167  \n",
      "2                              0.512667         0.523333     0.604375  \n",
      "3                              0.498570         0.501979     0.604063  \n",
      "4                              0.550384         0.565625     0.605208  \n",
      "...                                 ...              ...          ...  \n",
      "1439                           0.012500         0.112500     0.203125  \n",
      "1440                           0.511413         0.479167     0.525000  \n",
      "1441                           0.504288         0.464583     0.537500  \n",
      "1442                           0.477916         0.453958     0.538958  \n",
      "1443                           0.450508         0.437083     0.535312  \n",
      "\n",
      "[1444 rows x 19 columns]\n"
     ]
    }
   ],
   "source": [
    "method_names = df['name'].unique().tolist()\n",
    "print(df)\n",
    "df2 = pd.read_pickle(\"results/occ2-3-23.pkl\")\n",
    "print(df2)\n",
    "df3 = pd.concat([df2, df])"
   ]
  },
  {
   "cell_type": "code",
   "execution_count": null,
   "metadata": {},
   "outputs": [],
   "source": [
    "print(df3)\n",
    "method_names += ['CDI_Sum_intersectional', 'CDI_Min_intersectional', 'CDI_Sum_3_attr', 'CDI_Min_3_attr']\n",
    "\n",
    "for k in [10, 25, 50, 100]:\n",
    "    plot_across_tol(df3, k, method_names, 'Avg_AbsBias_gender', 'Avg_Precision', reverse_x=True)\n",
    "    plot_across_tol(df3, k, method_names, 'Avg_Bias_gender', 'Avg_Precision', reverse_x=False)\n",
    "    plot_across_tol(df3, k, method_names, 'Avg_Skew_gender', 'Avg_Precision', reverse_x=False)\n",
    "    plot_across_tol(df3, k, method_names, 'Avg_AbsBias_gender', 'Avg_Recall', reverse_x=True)\n",
    "    plot_across_tol(df3, k, method_names, 'Avg_Bias_gender', 'Avg_Recall', reverse_x=False)\n",
    "    plot_across_tol(df3, k, method_names, 'Avg_AbsBias_for_Accurate_gender', 'Avg_Precision', reverse_x=True)\n",
    "    plot_across_tol(df3, k, method_names, 'Avg_Max_MC_Bias', 'Avg_Precision', reverse_x=True)"
   ]
  },
  {
   "cell_type": "code",
   "execution_count": 55,
   "metadata": {},
   "outputs": [
    {
     "name": "stdout",
     "output_type": "stream",
     "text": [
      "{'garbage collector': 100, 'dental hygienist': 100, 'paralegal': 100, 'courier': 100, 'housekeeper': 100, 'carpenter': 100, 'nurse practitioner': 100, 'building painter': 100, 'building inspector': 100, 'barber': 100, 'lawyer': 100, 'tour guide': 100, 'logistician': 100, 'pharmacist': 100, 'bartender': 100, 'librarian': 100, 'tax collector': 100, 'hairdresser': 100, 'engineer': 100, 'flight attendant': 100, 'plumber': 100, 'biologist': 100, 'parking attendant': 100, 'claims adjuster': 100, 'truck driver': 100, 'cook': 100, 'counselor': 100, 'drafter': 100, 'photographer': 100, 'financial advisor': 100, 'baker': 100, 'chiropractor': 100, 'insurance sales agent': 100, 'architect': 100, 'groundskeeper': 100, 'taxi driver': 100, 'tax preparer': 100, 'exterminator': 100, 'veterinarians': 100, 'nurse': 100, 'dishwasher': 100, 'real estate agent': 100, 'announcer': 100, 'bill collector': 100, 'private investigator': 100, 'receptionist': 100, 'typist': 100, 'travel agent': 100, 'teller': 100, 'editor': 100, 'butcher': 100, 'primary school teacher': 100, 'pilot': 100, 'crossing guard': 100, 'electrician': 100, 'machinist': 100, 'doctor': 100, 'paramedic': 100, 'massage therapist': 100, 'customer service representative': 100, 'Financial analyst': 100, 'physical therapist': 100, 'designer': 100, 'software developer': 100, 'technical writer': 100, 'PR person': 99, 'firefighter': 100, 'computer programmer': 100, 'roofer': 100, 'social worker': 100, 'security guard': 100, 'special ed teacher': 100, 'crane operator': 100, 'welder': 100, 'bus driver': 100, 'dentist': 100, 'chief executive officer': 100, 'childcare worker': 100, 'police officer': 100, 'web developer': 100, 'high school teacher': 100, 'chemist': 100, 'mail carrier': 99, 'detective': 100, 'custodian': 100, 'author': 100, 'lab tech': 100, 'construction worker': 100, 'cashier': 100, 'clergy member': 100, 'chef': 100, 'telemarketer': 100, 'administrative assistant': 100, 'fundraiser': 100, 'psychologist': 100, 'optician': 100}\n"
     ]
    },
    {
     "data": {
      "image/png": "[encoded data removed]",
      "text/plain": [
       "<Figure size 640x480 with 1 Axes>"
      ]
     },
     "metadata": {},
     "output_type": "display_data"
    }
   ],
   "source": [
    "print(totals_by_cat)\n",
    "\n",
    "recalls = []\n",
    "precisions = []\n",
    "for cat in catagories:\n",
    "    res = image_database.clip_clip(f\"This is a picture of a {cat}\", \"intersectional\", 100, k=100)\n",
    "    recalls.append(recall(label_column='search_term', positive_label_value=cat, data=res, total_positive=totals_by_cat[cat]))\n",
    "    precisions.append(precision(label_column='search_term', positive_label_value=cat, data=res))\n",
    "\n",
    "plt.scatter(recalls, precisions)\n",
    "plt.show()"
   ]
  },
  {
   "cell_type": "code",
   "execution_count": null,
   "metadata": {},
   "outputs": [],
   "source": [
    "attr = [(\"A picture of a man\", \"A picture of a woman\"), (\"A picture of a white person\", \"A picture of a black person\"), (\"A picture of a young person\", \"A picture of an old person\"), (\"A picture of an American Person\", \"A picture of a non-American person\"), (\"A picture of a disabled person\", \"A picture of a person who is not disabled\")]\n",
    "image_database = ImageDatabase(features, data, model, preprocess, device)\n",
    "k = [10, 25, 50]\n",
    "number_of_tol_steps = 20\n",
    "\n",
    "for k in k:\n",
    "    precisions, biases, skews = {}, {}, {}\n",
    "    for i in range(len(attr)):\n",
    "        avg_precision = []\n",
    "        avg_bias = []\n",
    "        image_database.sensitive_attributes(attr[:i+1])\n",
    "        for tol in range(0, number_of_tol_steps):\n",
    "            baseline_metrics = {}\n",
    "            t = tol / (10 * (number_of_tol_steps-1))\n",
    "            run_analysis(lambda x: image_database.distinct_retrival(x, k, tol=t, method='max_sum'), k, t, baseline_metrics, catagories, 'search_term', indistinguisable_values, ['gender', 'skintone'], [['Female'], ['dark']], [['Male'], ['light']], true_rates)\n",
    "            avg_bias.append(np.mean(baseline_metrics['abs_bias'], axis=0))\n",
    "            avg_precision.append(np.mean(baseline_metrics['precision']))\n",
    "        precisions[str(i)] = avg_precision\n",
    "        biases[str(i)] = avg_bias\n",
    "\n",
    "\n",
    "    baseline_metrics = {}\n",
    "    run_analysis(lambda x: image_database.search(x, k), k, None, baseline_metrics, catagories, 'search_term', indistinguisable_values, ['gender', 'skintone'], [['Female'], ['dark']], [['Male'], ['light']], true_rates)\n",
    "    baseline_precision = np.mean(baseline_metrics['precision'])\n",
    "    baseline_bias = np.mean(baseline_metrics['abs_bias'], axis=0)\n",
    "    baseline_skew = np.mean(baseline_metrics['skew'])\n",
    "\n",
    "    for i in range(len(attr)):\n",
    "        plt.plot(unpack_to_i(biases[str(i)], 0), precisions[str(i)], label=(\"Total unmeasured cats: \" + str(i)))\n",
    "    plt.scatter(unpack_to_i(baseline_bias, 0), baseline_precision, label='Baseline')\n",
    "    plt.grid()\n",
    "    plt.xlabel(\"Average AbsBias on Gender\")\n",
    "    plt.ylabel(\"Average Precision\")\n",
    "    plt.gca().invert_xaxis()\n",
    "    plt.title(f\"Precision-AbsBias Curve @ {k}\")\n",
    "    plt.legend()\n",
    "    plt.show()\n",
    "\n",
    "    \n",
    "    for i in range(len(attr)):\n",
    "        plt.plot(unpack_to_i(biases[str(i)], 1), precisions[str(i)], label=(\"Total unmeasured cats: \" + str(i)))\n",
    "    plt.scatter(unpack_to_i(baseline_bias, 1), baseline_precision, label='Baseline')\n",
    "    plt.grid()\n",
    "    plt.xlabel(\"Average AbsBias on Skin-Tone\")\n",
    "    plt.ylabel(\"Average Precision\")\n",
    "    plt.gca().invert_xaxis()\n",
    "    plt.title(f\"Precision-AbsBias Curve @ {k}\")\n",
    "    plt.legend()\n",
    "    plt.show()\n",
    "\n",
    "            "
   ]
  },
  {
   "cell_type": "code",
   "execution_count": null,
   "metadata": {},
   "outputs": [],
   "source": [
    "attributes = [\n",
    "    [(\"A picture of a man.\", \"A picture of a woman.\"), (\"A picture of a white person\", \"A picture of a black person\")],\n",
    "    [(\"A picture of a man.\", \"A picture of a woman.\"), (\"A picture of a white person\", \"A picture of a black person\"), (\"A picture of a white person\", \"A picture of a hispanic person\"), (\"A picture of a white person\", \"A picture of an asian person\"), (\"A picture of a white person\", \"A picture of a mixed-race person\"), (\"A picture of a white person\", \"A picture of a native-american person or pacific islander\")],\n",
    "    [(\"A picture of a man.\", \"A picture of a woman.\"), (\"A picture of a light-skinned person\", \"A picture of a dark-skinned person\")]\n",
    "]\n",
    "\n",
    "labels = [\n",
    "    \"White vs Black\",\n",
    "    \"Different Ethnicities\",\n",
    "    \"Skin-tone\"\n",
    "]\n",
    "\n",
    "k = [10, 25, 50]\n",
    "number_of_tol_steps = 15\n",
    "\n",
    "for k in k:\n",
    "    precisions, biases, skews = {}, {}, {}\n",
    "    for i in range(len(attributes)):\n",
    "        avg_precision = []\n",
    "        avg_bias = []\n",
    "        image_database.sensitive_attributes(attributes[i])\n",
    "        for tol in tqdm(range(0, number_of_tol_steps)):\n",
    "            baseline_metrics = {}\n",
    "            t = tol / (10 * (number_of_tol_steps-1))\n",
    "            run_analysis(lambda x: image_database.distinct_retrival(x, k, tol=t, method='max_sum'), k, t, baseline_metrics, catagories, 'search_term', indistinguisable_values, ['gender', 'skintone'], [['Female'], ['dark']], [['Male'], ['light']], true_rates)\n",
    "            avg_bias.append(np.mean(baseline_metrics['abs_bias'], axis=0))\n",
    "            avg_precision.append(np.mean(baseline_metrics['precision']))\n",
    "        precisions[str(i)] = avg_precision\n",
    "        biases[str(i)] = avg_bias\n",
    "\n",
    "    for i in range(len(attributes)):\n",
    "        plt.plot(unpack_to_i(biases[str(i)], 1), precisions[str(i)], label=(labels[i]))\n",
    "    plt.grid()\n",
    "    plt.xlabel(\"Average AbsBias on Skin-Tone\")\n",
    "    plt.ylabel(\"Average Precision\")\n",
    "    plt.gca().invert_xaxis()\n",
    "    plt.title(f\"Precision-AbsBias Curve @ {k}\")\n",
    "    plt.legend()\n",
    "    plt.show()\n"
   ]
  },
  {
   "cell_type": "code",
   "execution_count": 10,
   "metadata": {},
   "outputs": [
    {
     "name": "stdout",
     "output_type": "stream",
     "text": [
      "Starting analysis for method: Baseline...\n"
     ]
    },
    {
     "name": "stderr",
     "output_type": "stream",
     "text": [
      "100%|██████████| 4/4 [00:07<00:00,  1.83s/it]\n"
     ]
    },
    {
     "name": "stdout",
     "output_type": "stream",
     "text": [
      "Starting analysis for method: CDI_Sum_intersectional...\n"
     ]
    },
    {
     "name": "stderr",
     "output_type": "stream",
     "text": [
      "100%|██████████| 4/4 [33:30<00:00, 502.67s/it]\n"
     ]
    },
    {
     "name": "stdout",
     "output_type": "stream",
     "text": [
      "Starting analysis for method: CDI_Min_intersectional...\n"
     ]
    },
    {
     "name": "stderr",
     "output_type": "stream",
     "text": [
      "100%|██████████| 4/4 [33:08<00:00, 497.09s/it]\n"
     ]
    },
    {
     "name": "stdout",
     "output_type": "stream",
     "text": [
      "Starting analysis for method: PBM_intersectional...\n"
     ]
    },
    {
     "name": "stderr",
     "output_type": "stream",
     "text": [
      "100%|██████████| 4/4 [12:31<00:00, 187.76s/it]\n"
     ]
    },
    {
     "name": "stdout",
     "output_type": "stream",
     "text": [
      "Starting analysis for method: CLIP_intersectional...\n"
     ]
    },
    {
     "name": "stderr",
     "output_type": "stream",
     "text": [
      "100%|██████████| 4/4 [03:11<00:00, 47.79s/it]\n"
     ]
    },
    {
     "name": "stdout",
     "output_type": "stream",
     "text": [
      "Starting analysis for method: DebiasClip...\n"
     ]
    },
    {
     "name": "stderr",
     "output_type": "stream",
     "text": [
      "100%|██████████| 4/4 [00:36<00:00,  9.12s/it]\n"
     ]
    },
    {
     "name": "stdout",
     "output_type": "stream",
     "text": [
      "Starting analysis for method: Baseline...\n"
     ]
    },
    {
     "name": "stderr",
     "output_type": "stream",
     "text": [
      "100%|██████████| 4/4 [00:08<00:00,  2.13s/it]\n"
     ]
    },
    {
     "name": "stdout",
     "output_type": "stream",
     "text": [
      "Starting analysis for method: CDI_Sum_intersectional...\n"
     ]
    },
    {
     "name": "stderr",
     "output_type": "stream",
     "text": [
      "100%|██████████| 4/4 [30:10<00:00, 452.69s/it]\n"
     ]
    },
    {
     "name": "stdout",
     "output_type": "stream",
     "text": [
      "Starting analysis for method: CDI_Min_intersectional...\n"
     ]
    },
    {
     "name": "stderr",
     "output_type": "stream",
     "text": [
      "100%|██████████| 4/4 [27:39<00:00, 414.96s/it]\n"
     ]
    },
    {
     "name": "stdout",
     "output_type": "stream",
     "text": [
      "Starting analysis for method: PBM_intersectional...\n"
     ]
    },
    {
     "name": "stderr",
     "output_type": "stream",
     "text": [
      "100%|██████████| 4/4 [12:40<00:00, 190.21s/it]\n"
     ]
    },
    {
     "name": "stdout",
     "output_type": "stream",
     "text": [
      "Starting analysis for method: CLIP_intersectional...\n"
     ]
    },
    {
     "name": "stderr",
     "output_type": "stream",
     "text": [
      "100%|██████████| 4/4 [03:12<00:00, 48.17s/it]\n"
     ]
    },
    {
     "name": "stdout",
     "output_type": "stream",
     "text": [
      "Starting analysis for method: DebiasClip...\n"
     ]
    },
    {
     "name": "stderr",
     "output_type": "stream",
     "text": [
      "100%|██████████| 4/4 [00:33<00:00,  8.41s/it]\n"
     ]
    },
    {
     "name": "stdout",
     "output_type": "stream",
     "text": [
      "Starting analysis for method: Baseline...\n"
     ]
    },
    {
     "name": "stderr",
     "output_type": "stream",
     "text": [
      "100%|██████████| 4/4 [00:07<00:00,  1.89s/it]\n"
     ]
    },
    {
     "name": "stdout",
     "output_type": "stream",
     "text": [
      "Starting analysis for method: CDI_Sum_intersectional...\n"
     ]
    },
    {
     "name": "stderr",
     "output_type": "stream",
     "text": [
      "100%|██████████| 4/4 [31:55<00:00, 478.88s/it]\n"
     ]
    },
    {
     "name": "stdout",
     "output_type": "stream",
     "text": [
      "Starting analysis for method: CDI_Min_intersectional...\n"
     ]
    },
    {
     "name": "stderr",
     "output_type": "stream",
     "text": [
      "100%|██████████| 4/4 [24:42<00:00, 370.50s/it]\n"
     ]
    },
    {
     "name": "stdout",
     "output_type": "stream",
     "text": [
      "Starting analysis for method: PBM_intersectional...\n"
     ]
    },
    {
     "name": "stderr",
     "output_type": "stream",
     "text": [
      "100%|██████████| 4/4 [12:34<00:00, 188.50s/it]\n"
     ]
    },
    {
     "name": "stdout",
     "output_type": "stream",
     "text": [
      "Starting analysis for method: CLIP_intersectional...\n"
     ]
    },
    {
     "name": "stderr",
     "output_type": "stream",
     "text": [
      "100%|██████████| 4/4 [03:13<00:00, 48.39s/it]\n"
     ]
    },
    {
     "name": "stdout",
     "output_type": "stream",
     "text": [
      "Starting analysis for method: DebiasClip...\n"
     ]
    },
    {
     "name": "stderr",
     "output_type": "stream",
     "text": [
      "100%|██████████| 4/4 [00:35<00:00,  9.00s/it]\n"
     ]
    },
    {
     "name": "stdout",
     "output_type": "stream",
     "text": [
      "Starting analysis for method: Baseline...\n"
     ]
    },
    {
     "name": "stderr",
     "output_type": "stream",
     "text": [
      "100%|██████████| 4/4 [00:07<00:00,  1.86s/it]\n"
     ]
    },
    {
     "name": "stdout",
     "output_type": "stream",
     "text": [
      "Starting analysis for method: CDI_Sum_intersectional...\n"
     ]
    },
    {
     "name": "stderr",
     "output_type": "stream",
     "text": [
      "100%|██████████| 4/4 [23:38<00:00, 354.72s/it]\n"
     ]
    },
    {
     "name": "stdout",
     "output_type": "stream",
     "text": [
      "Starting analysis for method: CDI_Min_intersectional...\n"
     ]
    },
    {
     "name": "stderr",
     "output_type": "stream",
     "text": [
      "100%|██████████| 4/4 [23:25<00:00, 351.47s/it]\n"
     ]
    },
    {
     "name": "stdout",
     "output_type": "stream",
     "text": [
      "Starting analysis for method: PBM_intersectional...\n"
     ]
    },
    {
     "name": "stderr",
     "output_type": "stream",
     "text": [
      "100%|██████████| 4/4 [12:41<00:00, 190.31s/it]\n"
     ]
    },
    {
     "name": "stdout",
     "output_type": "stream",
     "text": [
      "Starting analysis for method: CLIP_intersectional...\n"
     ]
    },
    {
     "name": "stderr",
     "output_type": "stream",
     "text": [
      "100%|██████████| 4/4 [03:04<00:00, 46.14s/it]\n"
     ]
    },
    {
     "name": "stdout",
     "output_type": "stream",
     "text": [
      "Starting analysis for method: DebiasClip...\n"
     ]
    },
    {
     "name": "stderr",
     "output_type": "stream",
     "text": [
      "100%|██████████| 4/4 [00:43<00:00, 10.75s/it]\n"
     ]
    },
    {
     "name": "stdout",
     "output_type": "stream",
     "text": [
      "Starting analysis for method: Baseline...\n"
     ]
    },
    {
     "name": "stderr",
     "output_type": "stream",
     "text": [
      "100%|██████████| 4/4 [00:08<00:00,  2.04s/it]\n"
     ]
    },
    {
     "name": "stdout",
     "output_type": "stream",
     "text": [
      "Starting analysis for method: CDI_Sum_intersectional...\n"
     ]
    },
    {
     "name": "stderr",
     "output_type": "stream",
     "text": [
      "100%|██████████| 4/4 [25:08<00:00, 377.15s/it]\n"
     ]
    },
    {
     "name": "stdout",
     "output_type": "stream",
     "text": [
      "Starting analysis for method: CDI_Min_intersectional...\n"
     ]
    },
    {
     "name": "stderr",
     "output_type": "stream",
     "text": [
      "100%|██████████| 4/4 [25:18<00:00, 379.57s/it]\n"
     ]
    },
    {
     "name": "stdout",
     "output_type": "stream",
     "text": [
      "Starting analysis for method: PBM_intersectional...\n"
     ]
    },
    {
     "name": "stderr",
     "output_type": "stream",
     "text": [
      "100%|██████████| 4/4 [12:24<00:00, 186.05s/it]\n"
     ]
    },
    {
     "name": "stdout",
     "output_type": "stream",
     "text": [
      "Starting analysis for method: CLIP_intersectional...\n"
     ]
    },
    {
     "name": "stderr",
     "output_type": "stream",
     "text": [
      "100%|██████████| 4/4 [03:09<00:00, 47.28s/it]\n"
     ]
    },
    {
     "name": "stdout",
     "output_type": "stream",
     "text": [
      "Starting analysis for method: DebiasClip...\n"
     ]
    },
    {
     "name": "stderr",
     "output_type": "stream",
     "text": [
      "100%|██████████| 4/4 [00:35<00:00,  8.81s/it]\n"
     ]
    }
   ],
   "source": [
    "method_name_specification_list = [\n",
    "    (lambda k, tol: lambda x: image_database.search(x, k), 'Baseline', []),\n",
    "    (lambda k, tol: lambda x: image_database.distinct_retrival(x, k, tol=tol, method='max_sum'), 'CDI_Sum_intersectional', [(\"sensitive_attributes\", [(\"A picture of a man\", \"A picture of a woman\"), (\"A picture of a light-skinned person\", \"A picture of a dark-skinned person\")])]),\n",
    "    (lambda k, tol: lambda x: image_database.distinct_retrival(x, k, tol=tol, method='max_min'), 'CDI_Min_intersectional', [(\"sensitive_attributes\", [(\"A picture of a man\", \"A picture of a woman\"), (\"A picture of a light-skinned person\", \"A picture of a dark-skinned person\")])]),\n",
    "    (lambda k, eps: lambda x: image_database.pbm(x, k, eps=eps), 'PBM_intersectional', [(\"pbm_classes\", [\"unknown gender and skin-tone\", \"light-skinned man\", \"light-skinned woman\", \"dark-skinned man\", \"dark-skinned woman\"])]),\n",
    "    (lambda k, n: lambda x: image_database.clip_clip(x, \"intersectional\", n, k), 'CLIP_intersectional', []),\n",
    "    (lambda k, tol: lambda x: debias_database.search(x, k), 'DebiasClip', [])\n",
    "]\n",
    "np.random.seed(123)\n",
    "result_dicts = []\n",
    "for runs in range(5):\n",
    "    r_indexs = np.random.choice(len(data), int(len(data) * .7), replace=False)\n",
    "    f_random = features[r_indexs]\n",
    "    d_random = data.iloc[r_indexs]\n",
    "    fd_random = features_debias[r_indexs]\n",
    "    image_database = ImageDatabase(f_random, d_random, model, preprocess, device)\n",
    "    indistinguisable_values = [[cat] for cat in catagories]\n",
    "    totals_by_cat = {cat: len(data[data['search_term'] == cat]) for cat in catagories}\n",
    "    true_rates = [[data[data['search_term'] == cat].iloc[0].search_p_women for cat in catagories], [data[data['search_term'] == cat].iloc[0].search_p_dark for cat in catagories]]\n",
    "    image_database.define_coordinate_mapping(['gender', 'skintone'], [['man'], ['light']], [['woman'], ['dark']])\n",
    "    \n",
    "    debias_database = ImageDatabase(fd_random, d_random, model_debias, preprocess_debias, device_d)\n",
    "    image_database.add_clipclip_ordering(\"intersectional\", np.load('datasets/MI_orders/gender_skintone.npy'))\n",
    "\n",
    "    ks = [10, 25, 50, 100] # [10, 25, 50, 100] \n",
    "\n",
    "    number_of_tol_steps = 16 # 16\n",
    "    number_of_eps_steps = 11 # 11\n",
    "    number_of_clip_clip_steps = 24 #24\n",
    "    random_iters = 4\n",
    "\n",
    "    for method, name, spec in method_name_specification_list:\n",
    "        print(f\"Starting analysis for method: {name}...\")\n",
    "        for s, val in spec:\n",
    "            if s == \"sensitive_attributes\":\n",
    "                image_database.sensitive_attributes(val)\n",
    "            if s == \"pbm_classes\":\n",
    "                image_database.define_pbm_classes(val)\n",
    "        for k in tqdm(ks):\n",
    "            result_dict = {'name': name}\n",
    "\n",
    "            if name in ['Baseline', \"DebiasClip\"]:\n",
    "                steps = 1\n",
    "            else:\n",
    "                steps = number_of_tol_steps\n",
    "\n",
    "            if name[0:3] == 'PBM':\n",
    "                for e in reversed(range(0, number_of_eps_steps)):\n",
    "                    eps = e / (number_of_eps_steps - 1)\n",
    "                    retrieval_function = method(k, eps)\n",
    "                    new_dict = result_dict.copy()\n",
    "                    random_results = []\n",
    "                    for i in range(random_iters):\n",
    "                        new_dict = result_dict.copy()\n",
    "                        run_analysis(retrieval_function, k, eps, new_dict, catagories, 'search_term', indistinguisable_values, ['gender', 'skintone'], [['Female'], ['dark']], [['Male'], ['light']], true_rates, totals_by_cat)\n",
    "                        random_results.append(new_dict)\n",
    "                    \n",
    "                    add_dict = result_dict.copy()\n",
    "                    for key in random_results[0].keys():\n",
    "                        if key == 'name':\n",
    "                            continue\n",
    "                        add_dict[key] = np.mean([res[key] for res in random_results], axis=0)\n",
    "                    result_dicts.append(add_dict)\n",
    "\n",
    "            elif name[0:4] == 'CLIP':\n",
    "                for e in range(0, number_of_clip_clip_steps):\n",
    "                    n = e * 20\n",
    "                    retrieval_function = method(k, n)\n",
    "                    new_dict = result_dict.copy()\n",
    "                    run_analysis(retrieval_function, k, n, new_dict, catagories, 'search_term', indistinguisable_values, ['gender', 'skintone'], [['Female'], ['dark']], [['Male'], ['light']], true_rates, totals_by_cat)\n",
    "                    result_dicts.append(new_dict)\n",
    "            else:\n",
    "                for t in range(0, steps):\n",
    "                    if steps == 1:\n",
    "                        tol = None\n",
    "                    else:\n",
    "                        tol = t / 200\n",
    "                    retrieval_function = method(k, tol)\n",
    "                    new_dict = result_dict.copy()\n",
    "                    if name == \"CDI_Random\":\n",
    "                        random_results = []\n",
    "                        for i in range(random_iters):\n",
    "                            new_dict = result_dict.copy()\n",
    "                            run_analysis(retrieval_function, k, tol, new_dict, catagories, 'search_term', indistinguisable_values,  ['gender', 'skintone'], [['Female'], ['dark']], [['Male'], ['light']], true_rates, totals_by_cat)\n",
    "                            random_results.append(new_dict)\n",
    "                        new_dict = result_dict.copy()\n",
    "\n",
    "                        for key in random_results[0].keys():\n",
    "                            if key == 'name':\n",
    "                                continue\n",
    "                            new_dict[key] = np.mean([res[key] for res in random_results], axis=0)\n",
    "                    else:\n",
    "                        run_analysis(retrieval_function, k, tol, new_dict, catagories, 'search_term', indistinguisable_values, ['gender', 'skintone'], [['Female'], ['dark']], [['Male'], ['light']], true_rates, totals_by_cat)\n",
    "                    result_dicts.append(new_dict)\n",
    "\n",
    "df = parse_analysis(result_dicts, ['gender', 'skintone'])\n",
    "\n",
    "df.to_pickle(\"results/occ2-3-29-validation.pkl\")\n",
    "\n",
    "\n",
    "\n"
   ]
  }
 ],
 "metadata": {
  "kernelspec": {
   "display_name": "base",
   "language": "python",
   "name": "python3"
  },
  "language_info": {
   "codemirror_mode": {
    "name": "ipython",
    "version": 3
   },
   "file_extension": ".py",
   "mimetype": "text/x-python",
   "name": "python",
   "nbconvert_exporter": "python",
   "pygments_lexer": "ipython3",
   "version": "3.10.11"
  }
 },
 "nbformat": 4,
 "nbformat_minor": 2
}
