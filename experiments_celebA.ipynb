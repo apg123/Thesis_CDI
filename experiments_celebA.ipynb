{
 "cells": [
  {
   "cell_type": "code",
   "execution_count": 1,
   "metadata": {},
   "outputs": [],
   "source": [
    "import csv\n",
    "import pandas as pd\n",
    "import clip\n",
    "import torch\n",
    "import numpy as np\n",
    "import matplotlib.pyplot as plt\n",
    "from helpers import *\n",
    "from image_database import *\n",
    "from PIL import Image\n",
    "from scipy.spatial.distance import cdist\n",
    "import bisect \n",
    "from scipy.spatial import ConvexHull\n",
    "import gc\n",
    "import debias_clip as dclip\n",
    "#import cvxpy as cp\n",
    "image_folder_prefix = 'datasets/celeba/img_align_celeba/'\n",
    "\n",
    "data = pd.read_csv('datasets/celeba/alg_testing.csv') #datasets\\occuptations_2\\occupations_labels.csv\n",
    "data = data.astype('string')\n"
   ]
  },
  {
   "cell_type": "code",
   "execution_count": 2,
   "metadata": {},
   "outputs": [],
   "source": [
    "features = np.load('datasets/celeba/features.npy')[20000:35000]\n",
    "\n",
    "features_debias = np.load('datasets/celeba/features_debias.npy')[20000:35000]\n",
    "\n",
    "device = \"cuda\" if torch.cuda.is_available() else \"cpu\"\n",
    "model, preprocess = clip.load(\"ViT-B/32\", device)\n",
    "\n",
    "\n",
    "\n"
   ]
  },
  {
   "cell_type": "code",
   "execution_count": 3,
   "metadata": {},
   "outputs": [
    {
     "name": "stdout",
     "output_type": "stream",
     "text": [
      "Installing pretrained embedings\n",
      " best_ndkl_oai-clip-vit-b-16_neptune_run_OXVLB-317_model_e4_step_5334_embeddings.pt...\n"
     ]
    },
    {
     "name": "stderr",
     "output_type": "stream",
     "text": [
      "100%|█████████████████████████████████████| 4.73k/4.73k [00:00<00:00, 4.84MiB/s]\n"
     ]
    }
   ],
   "source": [
    "device_d = 'cpu'\n",
    "model_debias, preprocess_debias = dclip.load(\"ViT-B/16-gender\", device_d)"
   ]
  },
  {
   "cell_type": "code",
   "execution_count": 4,
   "metadata": {},
   "outputs": [
    {
     "name": "stdout",
     "output_type": "stream",
     "text": [
      "0        -1\n",
      "1        -1\n",
      "2        -1\n",
      "3        -1\n",
      "4         1\n",
      "         ..\n",
      "14995    -1\n",
      "14996    -1\n",
      "14997    -1\n",
      "14998    -1\n",
      "14999    -1\n",
      "Name: 5_o_Clock_Shadow, Length: 15000, dtype: string\n"
     ]
    },
    {
     "data": {
      "text/html": [
       "<div>\n",
       "<style scoped>\n",
       "    .dataframe tbody tr th:only-of-type {\n",
       "        vertical-align: middle;\n",
       "    }\n",
       "\n",
       "    .dataframe tbody tr th {\n",
       "        vertical-align: top;\n",
       "    }\n",
       "\n",
       "    .dataframe thead th {\n",
       "        text-align: right;\n",
       "    }\n",
       "</style>\n",
       "<table border=\"1\" class=\"dataframe\">\n",
       "  <thead>\n",
       "    <tr style=\"text-align: right;\">\n",
       "      <th></th>\n",
       "      <th>Unnamed: 0</th>\n",
       "      <th>image_id</th>\n",
       "      <th>5_o_Clock_Shadow</th>\n",
       "      <th>Arched_Eyebrows</th>\n",
       "      <th>Attractive</th>\n",
       "      <th>Bags_Under_Eyes</th>\n",
       "      <th>Bald</th>\n",
       "      <th>Bangs</th>\n",
       "      <th>Big_Lips</th>\n",
       "      <th>Big_Nose</th>\n",
       "      <th>...</th>\n",
       "      <th>Sideburns</th>\n",
       "      <th>Smiling</th>\n",
       "      <th>Straight_Hair</th>\n",
       "      <th>Wavy_Hair</th>\n",
       "      <th>Wearing_Earrings</th>\n",
       "      <th>Wearing_Hat</th>\n",
       "      <th>Wearing_Lipstick</th>\n",
       "      <th>Wearing_Necklace</th>\n",
       "      <th>Wearing_Necktie</th>\n",
       "      <th>Young</th>\n",
       "    </tr>\n",
       "  </thead>\n",
       "  <tbody>\n",
       "    <tr>\n",
       "      <th>0</th>\n",
       "      <td>20000</td>\n",
       "      <td>020001.jpg</td>\n",
       "      <td>-1</td>\n",
       "      <td>1</td>\n",
       "      <td>1</td>\n",
       "      <td>1</td>\n",
       "      <td>-1</td>\n",
       "      <td>-1</td>\n",
       "      <td>-1</td>\n",
       "      <td>1</td>\n",
       "      <td>...</td>\n",
       "      <td>-1</td>\n",
       "      <td>-1</td>\n",
       "      <td>-1</td>\n",
       "      <td>-1</td>\n",
       "      <td>1</td>\n",
       "      <td>-1</td>\n",
       "      <td>1</td>\n",
       "      <td>1</td>\n",
       "      <td>-1</td>\n",
       "      <td>1</td>\n",
       "    </tr>\n",
       "    <tr>\n",
       "      <th>1</th>\n",
       "      <td>20001</td>\n",
       "      <td>020002.jpg</td>\n",
       "      <td>-1</td>\n",
       "      <td>-1</td>\n",
       "      <td>-1</td>\n",
       "      <td>-1</td>\n",
       "      <td>1</td>\n",
       "      <td>-1</td>\n",
       "      <td>-1</td>\n",
       "      <td>-1</td>\n",
       "      <td>...</td>\n",
       "      <td>-1</td>\n",
       "      <td>-1</td>\n",
       "      <td>-1</td>\n",
       "      <td>-1</td>\n",
       "      <td>-1</td>\n",
       "      <td>-1</td>\n",
       "      <td>-1</td>\n",
       "      <td>-1</td>\n",
       "      <td>1</td>\n",
       "      <td>-1</td>\n",
       "    </tr>\n",
       "    <tr>\n",
       "      <th>2</th>\n",
       "      <td>20002</td>\n",
       "      <td>020003.jpg</td>\n",
       "      <td>-1</td>\n",
       "      <td>-1</td>\n",
       "      <td>1</td>\n",
       "      <td>-1</td>\n",
       "      <td>-1</td>\n",
       "      <td>1</td>\n",
       "      <td>-1</td>\n",
       "      <td>-1</td>\n",
       "      <td>...</td>\n",
       "      <td>-1</td>\n",
       "      <td>-1</td>\n",
       "      <td>1</td>\n",
       "      <td>-1</td>\n",
       "      <td>1</td>\n",
       "      <td>-1</td>\n",
       "      <td>-1</td>\n",
       "      <td>-1</td>\n",
       "      <td>-1</td>\n",
       "      <td>1</td>\n",
       "    </tr>\n",
       "    <tr>\n",
       "      <th>3</th>\n",
       "      <td>20003</td>\n",
       "      <td>020004.jpg</td>\n",
       "      <td>-1</td>\n",
       "      <td>-1</td>\n",
       "      <td>-1</td>\n",
       "      <td>-1</td>\n",
       "      <td>-1</td>\n",
       "      <td>1</td>\n",
       "      <td>-1</td>\n",
       "      <td>-1</td>\n",
       "      <td>...</td>\n",
       "      <td>-1</td>\n",
       "      <td>-1</td>\n",
       "      <td>-1</td>\n",
       "      <td>1</td>\n",
       "      <td>-1</td>\n",
       "      <td>-1</td>\n",
       "      <td>-1</td>\n",
       "      <td>-1</td>\n",
       "      <td>-1</td>\n",
       "      <td>1</td>\n",
       "    </tr>\n",
       "    <tr>\n",
       "      <th>4</th>\n",
       "      <td>20004</td>\n",
       "      <td>020005.jpg</td>\n",
       "      <td>1</td>\n",
       "      <td>-1</td>\n",
       "      <td>-1</td>\n",
       "      <td>1</td>\n",
       "      <td>-1</td>\n",
       "      <td>-1</td>\n",
       "      <td>-1</td>\n",
       "      <td>-1</td>\n",
       "      <td>...</td>\n",
       "      <td>-1</td>\n",
       "      <td>-1</td>\n",
       "      <td>-1</td>\n",
       "      <td>-1</td>\n",
       "      <td>-1</td>\n",
       "      <td>-1</td>\n",
       "      <td>-1</td>\n",
       "      <td>-1</td>\n",
       "      <td>1</td>\n",
       "      <td>1</td>\n",
       "    </tr>\n",
       "  </tbody>\n",
       "</table>\n",
       "<p>5 rows × 42 columns</p>\n",
       "</div>"
      ],
      "text/plain": [
       "  Unnamed: 0    image_id 5_o_Clock_Shadow Arched_Eyebrows Attractive  \\\n",
       "0      20000  020001.jpg               -1               1          1   \n",
       "1      20001  020002.jpg               -1              -1         -1   \n",
       "2      20002  020003.jpg               -1              -1          1   \n",
       "3      20003  020004.jpg               -1              -1         -1   \n",
       "4      20004  020005.jpg                1              -1         -1   \n",
       "\n",
       "  Bags_Under_Eyes Bald Bangs Big_Lips Big_Nose  ... Sideburns Smiling  \\\n",
       "0               1   -1    -1       -1        1  ...        -1      -1   \n",
       "1              -1    1    -1       -1       -1  ...        -1      -1   \n",
       "2              -1   -1     1       -1       -1  ...        -1      -1   \n",
       "3              -1   -1     1       -1       -1  ...        -1      -1   \n",
       "4               1   -1    -1       -1       -1  ...        -1      -1   \n",
       "\n",
       "  Straight_Hair Wavy_Hair Wearing_Earrings Wearing_Hat Wearing_Lipstick  \\\n",
       "0            -1        -1                1          -1                1   \n",
       "1            -1        -1               -1          -1               -1   \n",
       "2             1        -1                1          -1               -1   \n",
       "3            -1         1               -1          -1               -1   \n",
       "4            -1        -1               -1          -1               -1   \n",
       "\n",
       "  Wearing_Necklace Wearing_Necktie Young  \n",
       "0                1              -1     1  \n",
       "1               -1               1    -1  \n",
       "2               -1              -1     1  \n",
       "3               -1              -1     1  \n",
       "4               -1               1     1  \n",
       "\n",
       "[5 rows x 42 columns]"
      ]
     },
     "execution_count": 4,
     "metadata": {},
     "output_type": "execute_result"
    }
   ],
   "source": [
    "print(data['5_o_Clock_Shadow'])\n",
    "data.head()\n",
    "\n"
   ]
  },
  {
   "cell_type": "code",
   "execution_count": 5,
   "metadata": {},
   "outputs": [
    {
     "name": "stdout",
     "output_type": "stream",
     "text": [
      "Starting analysis for method: Baseline...\n"
     ]
    },
    {
     "name": "stderr",
     "output_type": "stream",
     "text": [
      "100%|██████████| 1/1 [00:01<00:00,  1.19s/it]\n"
     ]
    },
    {
     "name": "stdout",
     "output_type": "stream",
     "text": [
      "Starting analysis for method: CDI_Sum_gender...\n"
     ]
    },
    {
     "name": "stderr",
     "output_type": "stream",
     "text": [
      "100%|██████████| 1/1 [00:00<00:00,  3.13it/s]\n"
     ]
    },
    {
     "name": "stdout",
     "output_type": "stream",
     "text": [
      "Starting analysis for method: CDI_Sum_gender_skintone...\n"
     ]
    },
    {
     "name": "stderr",
     "output_type": "stream",
     "text": [
      "100%|██████████| 1/1 [00:00<00:00,  3.21it/s]\n"
     ]
    },
    {
     "name": "stdout",
     "output_type": "stream",
     "text": [
      "Starting analysis for method: CDI_Sum_skintone...\n"
     ]
    },
    {
     "name": "stderr",
     "output_type": "stream",
     "text": [
      "100%|██████████| 1/1 [00:00<00:00,  2.65it/s]\n"
     ]
    },
    {
     "name": "stdout",
     "output_type": "stream",
     "text": [
      "Starting analysis for method: CDI_Sum_age...\n"
     ]
    },
    {
     "name": "stderr",
     "output_type": "stream",
     "text": [
      "100%|██████████| 1/1 [00:00<00:00,  2.79it/s]\n"
     ]
    },
    {
     "name": "stdout",
     "output_type": "stream",
     "text": [
      "Starting analysis for method: CDI_Sum_intersectional...\n"
     ]
    },
    {
     "name": "stderr",
     "output_type": "stream",
     "text": [
      "100%|██████████| 1/1 [00:00<00:00,  2.68it/s]\n"
     ]
    },
    {
     "name": "stdout",
     "output_type": "stream",
     "text": [
      "Starting analysis for method: CDI_Sum_4_attr...\n"
     ]
    },
    {
     "name": "stderr",
     "output_type": "stream",
     "text": [
      "100%|██████████| 1/1 [00:00<00:00,  2.74it/s]\n"
     ]
    },
    {
     "name": "stdout",
     "output_type": "stream",
     "text": [
      "Starting analysis for method: CDI_Min_gender...\n"
     ]
    },
    {
     "name": "stderr",
     "output_type": "stream",
     "text": [
      "100%|██████████| 1/1 [00:00<00:00,  3.24it/s]\n"
     ]
    },
    {
     "name": "stdout",
     "output_type": "stream",
     "text": [
      "Starting analysis for method: CDI_Min_gender_skintone...\n"
     ]
    },
    {
     "name": "stderr",
     "output_type": "stream",
     "text": [
      "100%|██████████| 1/1 [00:00<00:00,  3.44it/s]\n"
     ]
    },
    {
     "name": "stdout",
     "output_type": "stream",
     "text": [
      "Starting analysis for method: CDI_Min_skintone...\n"
     ]
    },
    {
     "name": "stderr",
     "output_type": "stream",
     "text": [
      "100%|██████████| 1/1 [00:00<00:00,  3.26it/s]\n"
     ]
    },
    {
     "name": "stdout",
     "output_type": "stream",
     "text": [
      "Starting analysis for method: CDI_Min_age...\n"
     ]
    },
    {
     "name": "stderr",
     "output_type": "stream",
     "text": [
      "100%|██████████| 1/1 [00:00<00:00,  3.24it/s]\n"
     ]
    },
    {
     "name": "stdout",
     "output_type": "stream",
     "text": [
      "Starting analysis for method: CDI_Min_intersectional...\n"
     ]
    },
    {
     "name": "stderr",
     "output_type": "stream",
     "text": [
      "100%|██████████| 1/1 [00:00<00:00,  2.66it/s]\n"
     ]
    },
    {
     "name": "stdout",
     "output_type": "stream",
     "text": [
      "Starting analysis for method: CDI_Min_4_attr...\n"
     ]
    },
    {
     "name": "stderr",
     "output_type": "stream",
     "text": [
      "100%|██████████| 1/1 [00:00<00:00,  2.61it/s]\n"
     ]
    },
    {
     "name": "stdout",
     "output_type": "stream",
     "text": [
      "Starting analysis for method: CDI_Features...\n"
     ]
    },
    {
     "name": "stderr",
     "output_type": "stream",
     "text": [
      "100%|██████████| 1/1 [00:00<00:00,  2.43it/s]\n"
     ]
    },
    {
     "name": "stdout",
     "output_type": "stream",
     "text": [
      "Starting analysis for method: CDI_TrueConcept...\n"
     ]
    },
    {
     "name": "stderr",
     "output_type": "stream",
     "text": [
      "100%|██████████| 1/1 [00:00<00:00,  2.55it/s]\n"
     ]
    },
    {
     "name": "stdout",
     "output_type": "stream",
     "text": [
      "Starting analysis for method: PBM_gender...\n"
     ]
    },
    {
     "name": "stderr",
     "output_type": "stream",
     "text": [
      "100%|██████████| 1/1 [00:00<00:00,  1.10it/s]\n"
     ]
    },
    {
     "name": "stdout",
     "output_type": "stream",
     "text": [
      "Starting analysis for method: PBM_intersectional...\n"
     ]
    },
    {
     "name": "stderr",
     "output_type": "stream",
     "text": [
      "100%|██████████| 1/1 [00:00<00:00,  1.01it/s]\n"
     ]
    },
    {
     "name": "stdout",
     "output_type": "stream",
     "text": [
      "Starting analysis for method: PBM_skintone...\n"
     ]
    },
    {
     "name": "stderr",
     "output_type": "stream",
     "text": [
      "100%|██████████| 1/1 [00:00<00:00,  1.34it/s]\n"
     ]
    },
    {
     "name": "stdout",
     "output_type": "stream",
     "text": [
      "Starting analysis for method: PBM_three_attributes...\n"
     ]
    },
    {
     "name": "stderr",
     "output_type": "stream",
     "text": [
      "100%|██████████| 1/1 [00:01<00:00,  1.23s/it]\n"
     ]
    },
    {
     "name": "stdout",
     "output_type": "stream",
     "text": [
      "Starting analysis for method: PBM_four_attributes...\n"
     ]
    },
    {
     "name": "stderr",
     "output_type": "stream",
     "text": [
      "100%|██████████| 1/1 [00:01<00:00,  1.75s/it]\n"
     ]
    },
    {
     "name": "stdout",
     "output_type": "stream",
     "text": [
      "Starting analysis for method: CLIP_gender...\n"
     ]
    },
    {
     "name": "stderr",
     "output_type": "stream",
     "text": [
      "100%|██████████| 1/1 [00:00<00:00,  2.80it/s]\n"
     ]
    },
    {
     "name": "stdout",
     "output_type": "stream",
     "text": [
      "Starting analysis for method: CLIP_skintone...\n"
     ]
    },
    {
     "name": "stderr",
     "output_type": "stream",
     "text": [
      "100%|██████████| 1/1 [00:00<00:00,  2.87it/s]\n"
     ]
    },
    {
     "name": "stdout",
     "output_type": "stream",
     "text": [
      "Starting analysis for method: CLIP_age...\n"
     ]
    },
    {
     "name": "stderr",
     "output_type": "stream",
     "text": [
      "100%|██████████| 1/1 [00:00<00:00,  2.86it/s]\n"
     ]
    },
    {
     "name": "stdout",
     "output_type": "stream",
     "text": [
      "Starting analysis for method: CLIP_gender_skintone...\n"
     ]
    },
    {
     "name": "stderr",
     "output_type": "stream",
     "text": [
      "100%|██████████| 1/1 [00:00<00:00,  2.86it/s]\n"
     ]
    },
    {
     "name": "stdout",
     "output_type": "stream",
     "text": [
      "Starting analysis for method: CLIP_intersectional...\n"
     ]
    },
    {
     "name": "stderr",
     "output_type": "stream",
     "text": [
      "100%|██████████| 1/1 [00:00<00:00,  3.30it/s]\n"
     ]
    },
    {
     "name": "stdout",
     "output_type": "stream",
     "text": [
      "Starting analysis for method: CLIP_add_concept...\n"
     ]
    },
    {
     "name": "stderr",
     "output_type": "stream",
     "text": [
      "100%|██████████| 1/1 [00:00<00:00,  3.48it/s]\n"
     ]
    },
    {
     "name": "stdout",
     "output_type": "stream",
     "text": [
      "Starting analysis for method: DebiasClip...\n"
     ]
    },
    {
     "name": "stderr",
     "output_type": "stream",
     "text": [
      "100%|██████████| 1/1 [00:00<00:00,  2.43it/s]"
     ]
    },
    {
     "name": "stdout",
     "output_type": "stream",
     "text": [
      "                                  method                     name     tol  \\\n",
      "0                               Baseline                 Baseline     NaN   \n",
      "1              CDI_Sum_gender (tol: 0.0)           CDI_Sum_gender   0.000   \n",
      "2            CDI_Sum_gender (tol: 0.005)           CDI_Sum_gender   0.005   \n",
      "3     CDI_Sum_gender_skintone (tol: 0.0)  CDI_Sum_gender_skintone   0.000   \n",
      "4   CDI_Sum_gender_skintone (tol: 0.005)  CDI_Sum_gender_skintone   0.005   \n",
      "5            CDI_Sum_skintone (tol: 0.0)         CDI_Sum_skintone   0.000   \n",
      "6          CDI_Sum_skintone (tol: 0.005)         CDI_Sum_skintone   0.005   \n",
      "7                 CDI_Sum_age (tol: 0.0)              CDI_Sum_age   0.000   \n",
      "8               CDI_Sum_age (tol: 0.005)              CDI_Sum_age   0.005   \n",
      "9      CDI_Sum_intersectional (tol: 0.0)   CDI_Sum_intersectional   0.000   \n",
      "10   CDI_Sum_intersectional (tol: 0.005)   CDI_Sum_intersectional   0.005   \n",
      "11             CDI_Sum_4_attr (tol: 0.0)           CDI_Sum_4_attr   0.000   \n",
      "12           CDI_Sum_4_attr (tol: 0.005)           CDI_Sum_4_attr   0.005   \n",
      "13             CDI_Min_gender (tol: 0.0)           CDI_Min_gender   0.000   \n",
      "14           CDI_Min_gender (tol: 0.005)           CDI_Min_gender   0.005   \n",
      "15    CDI_Min_gender_skintone (tol: 0.0)  CDI_Min_gender_skintone   0.000   \n",
      "16  CDI_Min_gender_skintone (tol: 0.005)  CDI_Min_gender_skintone   0.005   \n",
      "17           CDI_Min_skintone (tol: 0.0)         CDI_Min_skintone   0.000   \n",
      "18         CDI_Min_skintone (tol: 0.005)         CDI_Min_skintone   0.005   \n",
      "19                CDI_Min_age (tol: 0.0)              CDI_Min_age   0.000   \n",
      "20              CDI_Min_age (tol: 0.005)              CDI_Min_age   0.005   \n",
      "21     CDI_Min_intersectional (tol: 0.0)   CDI_Min_intersectional   0.000   \n",
      "22   CDI_Min_intersectional (tol: 0.005)   CDI_Min_intersectional   0.005   \n",
      "23             CDI_Min_4_attr (tol: 0.0)           CDI_Min_4_attr   0.000   \n",
      "24           CDI_Min_4_attr (tol: 0.005)           CDI_Min_4_attr   0.005   \n",
      "25               CDI_Features (tol: 0.0)             CDI_Features   0.000   \n",
      "26             CDI_Features (tol: 0.005)             CDI_Features   0.005   \n",
      "27            CDI_TrueConcept (tol: 0.0)          CDI_TrueConcept   0.000   \n",
      "28          CDI_TrueConcept (tol: 0.005)          CDI_TrueConcept   0.005   \n",
      "29                 PBM_gender (tol: 1.0)               PBM_gender   1.000   \n",
      "30                 PBM_gender (tol: 0.0)               PBM_gender   0.000   \n",
      "31         PBM_intersectional (tol: 1.0)       PBM_intersectional   1.000   \n",
      "32         PBM_intersectional (tol: 0.0)       PBM_intersectional   0.000   \n",
      "33               PBM_skintone (tol: 1.0)             PBM_skintone   1.000   \n",
      "34               PBM_skintone (tol: 0.0)             PBM_skintone   0.000   \n",
      "35       PBM_three_attributes (tol: 1.0)     PBM_three_attributes   1.000   \n",
      "36       PBM_three_attributes (tol: 0.0)     PBM_three_attributes   0.000   \n",
      "37        PBM_four_attributes (tol: 1.0)      PBM_four_attributes   1.000   \n",
      "38        PBM_four_attributes (tol: 0.0)      PBM_four_attributes   0.000   \n",
      "39                  CLIP_gender (tol: 0)              CLIP_gender   0.000   \n",
      "40                 CLIP_gender (tol: 20)              CLIP_gender  20.000   \n",
      "41                CLIP_skintone (tol: 0)            CLIP_skintone   0.000   \n",
      "42               CLIP_skintone (tol: 20)            CLIP_skintone  20.000   \n",
      "43                     CLIP_age (tol: 0)                 CLIP_age   0.000   \n",
      "44                    CLIP_age (tol: 20)                 CLIP_age  20.000   \n",
      "45         CLIP_gender_skintone (tol: 0)     CLIP_gender_skintone   0.000   \n",
      "46        CLIP_gender_skintone (tol: 20)     CLIP_gender_skintone  20.000   \n",
      "47          CLIP_intersectional (tol: 0)      CLIP_intersectional   0.000   \n",
      "48         CLIP_intersectional (tol: 20)      CLIP_intersectional  20.000   \n",
      "49             CLIP_add_concept (tol: 0)         CLIP_add_concept   0.000   \n",
      "50            CLIP_add_concept (tol: 20)         CLIP_add_concept  20.000   \n",
      "51                            DebiasClip               DebiasClip     NaN   \n",
      "\n",
      "       k  Avg_Precision  Avg_Recall  Avg_PutI  Avg_AbsBias_Pale_Skin  \\\n",
      "0   10.0       0.800000    0.006960  0.800000               0.942857   \n",
      "1   10.0       0.800000    0.006960  0.800000               0.942857   \n",
      "2   10.0       0.742857    0.006542  0.742857               0.914286   \n",
      "3   10.0       0.800000    0.006960  0.800000               0.942857   \n",
      "4   10.0       0.771429    0.006606  0.771429               0.942857   \n",
      "5   10.0       0.800000    0.006960  0.800000               0.942857   \n",
      "6   10.0       0.814286    0.006848  0.814286               0.914286   \n",
      "7   10.0       0.800000    0.006960  0.800000               0.942857   \n",
      "8   10.0       0.785714    0.006494  0.785714               0.914286   \n",
      "9   10.0       0.800000    0.006960  0.800000               0.942857   \n",
      "10  10.0       0.771429    0.006606  0.771429               0.942857   \n",
      "11  10.0       0.800000    0.006960  0.800000               0.942857   \n",
      "12  10.0       0.771429    0.006606  0.771429               0.942857   \n",
      "13  10.0       0.800000    0.006960  0.800000               0.942857   \n",
      "14  10.0       0.742857    0.006514  0.742857               0.857143   \n",
      "15  10.0       0.800000    0.006960  0.800000               0.942857   \n",
      "16  10.0       0.742857    0.006384  0.742857               0.942857   \n",
      "17  10.0       0.800000    0.006960  0.800000               0.942857   \n",
      "18  10.0       0.771429    0.006551  0.771429               0.942857   \n",
      "19  10.0       0.800000    0.006960  0.800000               0.942857   \n",
      "20  10.0       0.742857    0.006384  0.742857               0.942857   \n",
      "21  10.0       0.800000    0.006960  0.800000               0.942857   \n",
      "22  10.0       0.742857    0.006384  0.742857               0.942857   \n",
      "23  10.0       0.800000    0.006960  0.800000               0.942857   \n",
      "24  10.0       0.742857    0.006514  0.742857               0.914286   \n",
      "25  10.0       0.800000    0.006960  0.800000               0.942857   \n",
      "26  10.0       0.742857    0.006384  0.742857               0.942857   \n",
      "27  10.0       0.800000    0.006960  0.800000               0.942857   \n",
      "28  10.0       0.771429    0.006579  0.771429               0.857143   \n",
      "29  10.0       0.800000    0.006960  0.800000               0.942857   \n",
      "30  10.0       0.764286    0.006858  0.764286               0.914286   \n",
      "31  10.0       0.800000    0.006960  0.800000               0.942857   \n",
      "32  10.0       0.771429    0.006796  0.771429               0.857143   \n",
      "33  10.0       0.800000    0.006960  0.800000               0.942857   \n",
      "34  10.0       0.800000    0.006812  0.800000               0.914286   \n",
      "35  10.0       0.800000    0.006960  0.800000               0.942857   \n",
      "36  10.0       0.742857    0.006113  0.742857               0.885714   \n",
      "37  10.0       0.800000    0.006960  0.800000               0.942857   \n",
      "38  10.0       0.757143    0.006100  0.757143               0.857143   \n",
      "39  10.0       0.800000    0.006960  0.800000               0.942857   \n",
      "40  10.0       0.671429    0.005772  0.671429               0.942857   \n",
      "41  10.0       0.800000    0.006960  0.800000               0.942857   \n",
      "42  10.0       0.800000    0.006616  0.800000               0.942857   \n",
      "43  10.0       0.800000    0.006960  0.800000               0.942857   \n",
      "44  10.0       0.728571    0.006468  0.728571               0.914286   \n",
      "45  10.0       0.800000    0.006960  0.800000               0.942857   \n",
      "46  10.0       0.685714    0.005949  0.685714               0.971429   \n",
      "47  10.0       0.800000    0.006960  0.800000               0.942857   \n",
      "48  10.0       0.628571    0.005177  0.628571               0.857143   \n",
      "49  10.0       0.800000    0.006960  0.800000               0.942857   \n",
      "50  10.0       0.628571    0.005177  0.628571               0.857143   \n",
      "51  10.0       0.685714    0.006127  0.685714               0.942857   \n",
      "\n",
      "    Avg_Bias_Pale_Skin  Avg_AbsBias_for_Accurate_Pale_Skin  Avg_AbsBias_Male  \\\n",
      "0            -0.942857                            0.896825          0.542857   \n",
      "1            -0.942857                            0.896825          0.542857   \n",
      "2            -0.914286                            0.904762          0.342857   \n",
      "3            -0.942857                            0.896825          0.542857   \n",
      "4            -0.942857                            0.896825          0.342857   \n",
      "5            -0.942857                            0.896825          0.542857   \n",
      "6            -0.914286                            0.875397          0.485714   \n",
      "7            -0.942857                            0.896825          0.542857   \n",
      "8            -0.914286                            0.853968          0.400000   \n",
      "9            -0.942857                            0.896825          0.542857   \n",
      "10           -0.942857                            0.896825          0.342857   \n",
      "11           -0.942857                            0.896825          0.542857   \n",
      "12           -0.942857                            0.896825          0.342857   \n",
      "13           -0.942857                            0.896825          0.542857   \n",
      "14           -0.857143                            0.784580          0.371429   \n",
      "15           -0.942857                            0.896825          0.542857   \n",
      "16           -0.942857                            0.857143          0.371429   \n",
      "17           -0.942857                            0.896825          0.542857   \n",
      "18           -0.942857                            0.920635          0.428571   \n",
      "19           -0.942857                            0.896825          0.542857   \n",
      "20           -0.942857                            0.857143          0.371429   \n",
      "21           -0.942857                            0.896825          0.542857   \n",
      "22           -0.942857                            0.896825          0.428571   \n",
      "23           -0.942857                            0.896825          0.542857   \n",
      "24           -0.914286                            0.896825          0.400000   \n",
      "25           -0.942857                            0.896825          0.542857   \n",
      "26           -0.942857                            0.896825          0.371429   \n",
      "27           -0.942857                            0.896825          0.542857   \n",
      "28           -0.857143                            0.813152          0.342857   \n",
      "29           -0.942857                            0.896825          0.542857   \n",
      "30           -0.914286                            0.856349          0.128571   \n",
      "31           -0.942857                            0.896825          0.542857   \n",
      "32           -0.857143                            0.835714          0.542857   \n",
      "33           -0.942857                            0.896825          0.542857   \n",
      "34           -0.914286                            0.825397          0.485714   \n",
      "35           -0.942857                            0.896825          0.542857   \n",
      "36           -0.885714                            0.840476          0.342857   \n",
      "37           -0.942857                            0.896825          0.542857   \n",
      "38           -0.857143                            0.879592          0.342857   \n",
      "39           -0.942857                            0.896825          0.542857   \n",
      "40           -0.942857                            0.964286          0.457143   \n",
      "41           -0.942857                            0.896825          0.542857   \n",
      "42           -0.942857                            0.927438          0.457143   \n",
      "43           -0.942857                            0.896825          0.542857   \n",
      "44           -0.914286                            0.857143          0.371429   \n",
      "45           -0.942857                            0.896825          0.542857   \n",
      "46           -0.971429                            0.964286          0.400000   \n",
      "47           -0.942857                            0.896825          0.542857   \n",
      "48           -0.857143                            0.792517          0.600000   \n",
      "49           -0.942857                            0.896825          0.542857   \n",
      "50           -0.857143                            0.792517          0.600000   \n",
      "51           -0.942857                            0.968254          0.485714   \n",
      "\n",
      "    Avg_Bias_Male  Avg_AbsBias_for_Accurate_Male  Avg_AbsBias_Young  \\\n",
      "0       -0.028571                       0.588209           0.742857   \n",
      "1       -0.028571                       0.588209           0.742857   \n",
      "2        0.114286                       0.421315           0.657143   \n",
      "3       -0.028571                       0.588209           0.742857   \n",
      "4        0.114286                       0.428118           0.742857   \n",
      "5       -0.028571                       0.588209           0.742857   \n",
      "6       -0.028571                       0.519955           0.771429   \n",
      "7       -0.028571                       0.588209           0.742857   \n",
      "8        0.057143                       0.460431           0.685714   \n",
      "9       -0.028571                       0.588209           0.742857   \n",
      "10       0.114286                       0.428118           0.685714   \n",
      "11      -0.028571                       0.588209           0.742857   \n",
      "12       0.114286                       0.428118           0.685714   \n",
      "13      -0.028571                       0.588209           0.742857   \n",
      "14       0.142857                       0.411791           0.742857   \n",
      "15      -0.028571                       0.588209           0.742857   \n",
      "16       0.085714                       0.448526           0.742857   \n",
      "17      -0.028571                       0.588209           0.742857   \n",
      "18       0.085714                       0.500680           0.800000   \n",
      "19      -0.028571                       0.588209           0.742857   \n",
      "20       0.085714                       0.448526           0.742857   \n",
      "21      -0.028571                       0.588209           0.742857   \n",
      "22       0.200000                       0.512018           0.714286   \n",
      "23      -0.028571                       0.588209           0.742857   \n",
      "24       0.171429                       0.443537           0.685714   \n",
      "25      -0.028571                       0.588209           0.742857   \n",
      "26       0.142857                       0.432653           0.714286   \n",
      "27      -0.028571                       0.588209           0.742857   \n",
      "28       0.114286                       0.421315           0.657143   \n",
      "29      -0.028571                       0.588209           0.742857   \n",
      "30       0.128571                       0.168821           0.714286   \n",
      "31      -0.028571                       0.588209           0.742857   \n",
      "32      -0.257143                       0.555442           0.785714   \n",
      "33      -0.028571                       0.588209           0.742857   \n",
      "34       0.028571                       0.554875           0.771429   \n",
      "35      -0.028571                       0.588209           0.742857   \n",
      "36       0.057143                       0.419048           0.600000   \n",
      "37      -0.028571                       0.588209           0.742857   \n",
      "38      -0.028571                       0.472449           0.771429   \n",
      "39      -0.028571                       0.588209           0.742857   \n",
      "40       0.342857                       0.475510           0.657143   \n",
      "41      -0.028571                       0.588209           0.742857   \n",
      "42      -0.114286                       0.509751           0.828571   \n",
      "43      -0.028571                       0.588209           0.742857   \n",
      "44       0.371429                       0.386395           0.742857   \n",
      "45      -0.028571                       0.588209           0.742857   \n",
      "46       0.285714                       0.475510           0.714286   \n",
      "47      -0.028571                       0.588209           0.742857   \n",
      "48       0.600000                       0.546032           0.742857   \n",
      "49      -0.028571                       0.588209           0.742857   \n",
      "50       0.600000                       0.546032           0.742857   \n",
      "51       0.028571                       0.514739           0.800000   \n",
      "\n",
      "    Avg_Bias_Young  Avg_AbsBias_for_Accurate_Young  Avg_Max_MC_Bias  \\\n",
      "0         0.514286                        0.765079         0.671429   \n",
      "1         0.514286                        0.765079         0.671429   \n",
      "2         0.428571                        0.715193         0.557143   \n",
      "3         0.514286                        0.765079         0.671429   \n",
      "4         0.514286                        0.816327         0.600000   \n",
      "5         0.514286                        0.765079         0.671429   \n",
      "6         0.542857                        0.821429         0.642857   \n",
      "7         0.514286                        0.765079         0.671429   \n",
      "8         0.457143                        0.749206         0.614286   \n",
      "9         0.514286                        0.765079         0.671429   \n",
      "10        0.457143                        0.756009         0.600000   \n",
      "11        0.514286                        0.765079         0.671429   \n",
      "12        0.457143                        0.756009         0.600000   \n",
      "13        0.514286                        0.765079         0.671429   \n",
      "14        0.514286                        0.787755         0.571429   \n",
      "15        0.514286                        0.765079         0.671429   \n",
      "16        0.514286                        0.825397         0.600000   \n",
      "17        0.514286                        0.765079         0.671429   \n",
      "18        0.571429                        0.857143         0.628571   \n",
      "19        0.514286                        0.765079         0.671429   \n",
      "20        0.514286                        0.825397         0.600000   \n",
      "21        0.514286                        0.765079         0.671429   \n",
      "22        0.485714                        0.749206         0.600000   \n",
      "23        0.514286                        0.765079         0.671429   \n",
      "24        0.457143                        0.715193         0.571429   \n",
      "25        0.514286                        0.765079         0.671429   \n",
      "26        0.485714                        0.749206         0.600000   \n",
      "27        0.514286                        0.765079         0.671429   \n",
      "28        0.428571                        0.715193         0.557143   \n",
      "29        0.514286                        0.765079         0.671429   \n",
      "30        0.485714                        0.761905         0.478571   \n",
      "31        0.514286                        0.765079         0.671429   \n",
      "32        0.585714                        0.850000         0.635714   \n",
      "33        0.514286                        0.765079         0.671429   \n",
      "34        0.542857                        0.825397         0.642857   \n",
      "35        0.514286                        0.765079         0.671429   \n",
      "36        0.600000                        0.728571         0.514286   \n",
      "37        0.514286                        0.765079         0.671429   \n",
      "38        0.571429                        0.838776         0.592857   \n",
      "39        0.514286                        0.765079         0.671429   \n",
      "40        0.371429                        0.642857         0.557143   \n",
      "41        0.514286                        0.765079         0.671429   \n",
      "42        0.600000                        0.844898         0.685714   \n",
      "43        0.514286                        0.765079         0.671429   \n",
      "44        0.457143                        0.772336         0.571429   \n",
      "45        0.514286                        0.765079         0.671429   \n",
      "46        0.428571                        0.707143         0.571429   \n",
      "47        0.514286                        0.765079         0.671429   \n",
      "48        0.457143                        0.743311         0.642857   \n",
      "49        0.514286                        0.765079         0.671429   \n",
      "50        0.457143                        0.743311         0.642857   \n",
      "51        0.514286                        0.837302         0.671429   \n",
      "\n",
      "    Max_AbsBias  \n",
      "0      0.942857  \n",
      "1      0.942857  \n",
      "2      0.914286  \n",
      "3      0.942857  \n",
      "4      0.942857  \n",
      "5      0.942857  \n",
      "6      0.914286  \n",
      "7      0.942857  \n",
      "8      0.914286  \n",
      "9      0.942857  \n",
      "10     0.942857  \n",
      "11     0.942857  \n",
      "12     0.942857  \n",
      "13     0.942857  \n",
      "14     0.857143  \n",
      "15     0.942857  \n",
      "16     0.942857  \n",
      "17     0.942857  \n",
      "18     0.942857  \n",
      "19     0.942857  \n",
      "20     0.942857  \n",
      "21     0.942857  \n",
      "22     0.942857  \n",
      "23     0.942857  \n",
      "24     0.914286  \n",
      "25     0.942857  \n",
      "26     0.942857  \n",
      "27     0.942857  \n",
      "28     0.857143  \n",
      "29     0.942857  \n",
      "30     0.914286  \n",
      "31     0.942857  \n",
      "32     0.857143  \n",
      "33     0.942857  \n",
      "34     0.914286  \n",
      "35     0.942857  \n",
      "36     0.885714  \n",
      "37     0.942857  \n",
      "38     0.857143  \n",
      "39     0.942857  \n",
      "40     0.942857  \n",
      "41     0.942857  \n",
      "42     0.942857  \n",
      "43     0.942857  \n",
      "44     0.914286  \n",
      "45     0.942857  \n",
      "46     0.971429  \n",
      "47     0.942857  \n",
      "48     0.857143  \n",
      "49     0.942857  \n",
      "50     0.857143  \n",
      "51     0.942857  \n"
     ]
    },
    {
     "name": "stderr",
     "output_type": "stream",
     "text": [
      "\n"
     ]
    }
   ],
   "source": [
    "catagories = ['attractive person', 'blurry photo of a person', 'person with brown hair', 'person wearing eyeglasses', 'person with gray hair', 'smiling person', 'person in a hat']\n",
    "catagory_column = ['Attractive', 'Blurry', 'Brown_Hair', 'Eyeglasses', 'Gray_Hair', 'Smiling', 'Wearing_Hat']\n",
    "\n",
    "image_database = ImageDatabase(features, data, model, preprocess, device)\n",
    "indistinguisable_values = [[\"1\"] for cat in catagory_column]\n",
    "totals_by_cat = {cat: len(data[data[catagory_column[i]] == \"1\"]) for i, cat in enumerate(catagories)}\n",
    "image_database.define_coordinate_mapping(['Pale_Skin', 'Male', 'Young'], [['1'], ['1'], ['1']], [['-1'], ['-1'], ['-1']])\n",
    "\n",
    "debias_database = ImageDatabase(features_debias, data, model_debias, preprocess_debias, device_d)\n",
    "\n",
    "image_database.add_clipclip_ordering(\"gender\", np.load('datasets/MI_orders/gender.npy'))\n",
    "image_database.add_clipclip_ordering(\"skintone\", np.load('datasets/MI_orders/skintone.npy'))\n",
    "image_database.add_clipclip_ordering(\"age\", np.load('datasets/MI_orders/age.npy'))\n",
    "image_database.add_clipclip_ordering(\"gender_skintone\", np.load('datasets/MI_orders/gender_skintone.npy'))\n",
    "image_database.add_clipclip_ordering(\"intersectional\", np.load('datasets/MI_orders/intersectional.npy'))\n",
    "image_database.add_clipclip_ordering(\"additional_concepts\", np.load('datasets/MI_orders/additional_concepts.npy'))\n",
    "\n",
    "\n",
    "\n",
    "method_name_specification_list = [\n",
    "    (lambda k, tol: lambda x: image_database.search(x, k), 'Baseline', []),\n",
    "    (lambda k, tol: lambda x: image_database.distinct_retrival(x, k, tol=tol, method='max_sum'), 'CDI_Sum_gender', [(\"sensitive_attributes\", [(\"A picture of a man\", \"A picture of a woman\")])]),\n",
    "    (lambda k, tol: lambda x: image_database.distinct_retrival(x, k, tol=tol, method='max_sum'), 'CDI_Sum_gender_skintone', [(\"sensitive_attributes\", [(\"A picture of a man\", \"A picture of a woman\"), (\"A picture of a light-skinned person\", \"A picture of a dark-skinned person\")])]),\n",
    "    (lambda k, tol: lambda x: image_database.distinct_retrival(x, k, tol=tol, method='max_sum'), 'CDI_Sum_skintone', [(\"sensitive_attributes\", [(\"A picture of a light-skinned person\", \"A picture of a dark-skinned person\")])]),\n",
    "    (lambda k, tol: lambda x: image_database.distinct_retrival(x, k, tol=tol, method='max_sum'), 'CDI_Sum_age', [(\"sensitive_attributes\", [(\"A picture of an old person\", \"A picture of a young person\")])]),\n",
    "    (lambda k, tol: lambda x: image_database.distinct_retrival(x, k, tol=tol, method='max_sum'), 'CDI_Sum_intersectional', [(\"sensitive_attributes\", [(\"A picture of a man\", \"A picture of a woman\"), (\"A picture of a light-skinned person\", \"A picture of a dark-skinned person\"), (\"A picture of an old person\", \"A picture of a young person\")])]),\n",
    "    (lambda k, tol: lambda x: image_database.distinct_retrival(x, k, tol=tol, method='max_sum'), 'CDI_Sum_4_attr', [(\"sensitive_attributes\", [(\"A picture of a man\", \"A picture of a woman\"), (\"A picture of a light-skinned person\", \"A picture of a dark-skinned person\"), (\"A picture of an old person\", \"A picture of a young person\"), (\"A picture of an American person\", \"A picture of a non-American person\")])]),\n",
    "\n",
    "    (lambda k, tol: lambda x: image_database.distinct_retrival(x, k, tol=tol, method='max_min'), 'CDI_Min_gender', [(\"sensitive_attributes\", [(\"A picture of a man\", \"A picture of a woman\")])]),\n",
    "    (lambda k, tol: lambda x: image_database.distinct_retrival(x, k, tol=tol, method='max_min'), 'CDI_Min_gender_skintone', [(\"sensitive_attributes\", [(\"A picture of a man\", \"A picture of a woman\"), (\"A picture of a light-skinned person\", \"A picture of a dark-skinned person\")])]),\n",
    "    (lambda k, tol: lambda x: image_database.distinct_retrival(x, k, tol=tol, method='max_min'), 'CDI_Min_skintone', [(\"sensitive_attributes\", [(\"A picture of a light-skinned person\", \"A picture of a dark-skinned person\")])]),\n",
    "    (lambda k, tol: lambda x: image_database.distinct_retrival(x, k, tol=tol, method='max_min'), 'CDI_Min_age', [(\"sensitive_attributes\", [(\"A picture of a man\", \"A picture of a woman\"), (\"A picture of a light-skinned person\", \"A picture of a dark-skinned person\")])]),\n",
    "    (lambda k, tol: lambda x: image_database.distinct_retrival(x, k, tol=tol, method='max_min'), 'CDI_Min_intersectional', [(\"sensitive_attributes\", [(\"A picture of a man\", \"A picture of a woman\"), (\"A picture of a light-skinned person\", \"A picture of a dark-skinned person\"), (\"A picture of an old person\", \"A picture of a young person\")])]),\n",
    "    (lambda k, tol: lambda x: image_database.distinct_retrival(x, k, tol=tol, method='max_min'), 'CDI_Min_4_attr', [(\"sensitive_attributes\", [(\"A picture of a man\", \"A picture of a woman\"), (\"A picture of a light-skinned person\", \"A picture of a dark-skinned person\"), (\"A picture of an old person\", \"A picture of a young person\"), (\"A picture of an American person\", \"A picture of a non-American person\")])]),\n",
    "\n",
    "    (lambda k, tol: lambda x: image_database.distinct_retrival(x, k, tol=tol, method='feature_distances'), 'CDI_Features', []),\n",
    "    (lambda k, tol: lambda x: image_database.distinct_retrival(x, k, tol=tol, method='true_labels'), 'CDI_TrueConcept', []),\n",
    "    \n",
    "    (lambda k, eps: lambda x: image_database.pbm(x, k, eps=eps), 'PBM_gender', [(\"pbm_classes\", [\"unknown gender\", \"man\", \"woman\"])]),\n",
    "    (lambda k, eps: lambda x: image_database.pbm(x, k, eps=eps), 'PBM_intersectional', [(\"pbm_classes\", [\"unknown gender and skin-tone\", \"light-skinned man\", \"light-skinned woman\", \"dark-skinned man\", \"dark-skinned woman\"])]),\n",
    "    (lambda k, eps: lambda x: image_database.pbm(x, k, eps=eps), 'PBM_skintone', [(\"pbm_classes\", [\"unknown skin-tone\", \"light-skinned person\", \"dark-skinned person\"])]),\n",
    "    (lambda k, eps: lambda x: image_database.pbm(x, k, eps=eps), 'PBM_three_attributes', [(\"pbm_classes\", intersections_for_pbm([[\"light-skinned\", \"dark-skinned\"], [\"old\", \"young\"], [\"man\", \"woman\"]], \"an unknown skin-tone, age, and gender\", \"\"))]),\n",
    "    (lambda k, eps: lambda x: image_database.pbm(x, k, eps=eps), 'PBM_four_attributes', [(\"pbm_classes\", intersections_for_pbm([[\"light-skinned\", \"dark-skinned\"], [\"old\", \"young\"], [\"American\", \"non-American\"], [\"man\", \"woman\"]], \"an unknown skin-tone, age, nationality, and gender\", \"\"))]),\n",
    "    \n",
    "    (lambda k, n: lambda x: image_database.clip_clip(x, \"gender\", n, k), 'CLIP_gender', []),\n",
    "    (lambda k, n: lambda x: image_database.clip_clip(x, \"skintone\", n, k), 'CLIP_skintone', []),\n",
    "    (lambda k, n: lambda x: image_database.clip_clip(x, \"age\", n, k), 'CLIP_age', []),\n",
    "    (lambda k, n: lambda x: image_database.clip_clip(x, \"gender_skintone\", n, k), 'CLIP_gender_skintone', []),\n",
    "    (lambda k, n: lambda x: image_database.clip_clip(x, \"intersectional\", n, k), 'CLIP_intersectional', []),\n",
    "    (lambda k, n: lambda x: image_database.clip_clip(x, \"additional_concepts\", n, k), 'CLIP_add_concept', []),\n",
    "\n",
    "    (lambda k, tol: lambda x: debias_database.search(x, k), 'DebiasClip', [])\n",
    "]\n",
    "\n",
    "\n",
    "\n",
    "ks = [10] # [10, 25, 50, 100] \n",
    "\n",
    "number_of_tol_steps = 2 # 16\n",
    "number_of_eps_steps = 2 # 11\n",
    "number_of_clip_clip_steps = 2 #24\n",
    "random_iters = 2 #4\n",
    "\n",
    "result_dicts = []\n",
    "\n",
    "for method, name, spec in method_name_specification_list:\n",
    "    print(f\"Starting analysis for method: {name}...\")\n",
    "    for s, val in spec:\n",
    "        if s == \"sensitive_attributes\":\n",
    "            image_database.sensitive_attributes(val)\n",
    "        if s == \"pbm_classes\":\n",
    "            image_database.define_pbm_classes(val)\n",
    "    for k in tqdm(ks):\n",
    "        result_dict = {'name': name}\n",
    "\n",
    "        if name in ['Baseline', \"DebiasClip\"]:\n",
    "            steps = 1\n",
    "        else:\n",
    "            steps = number_of_tol_steps\n",
    "\n",
    "        if name[0:3] == 'PBM':\n",
    "            for e in reversed(range(0, number_of_eps_steps)):\n",
    "                eps = e / (number_of_eps_steps - 1)\n",
    "                retrieval_function = method(k, eps)\n",
    "                new_dict = result_dict.copy()\n",
    "                random_results = []\n",
    "                for i in range(random_iters):\n",
    "                    new_dict = result_dict.copy()\n",
    "                    run_analysis_celeba(retrieval_function, k, eps, new_dict, catagories, catagory_column, indistinguisable_values, ['Pale_Skin', 'Male', 'Young'], [['1'], ['1'], ['1']], [['-1'], ['-1'], ['-1']], totals_by_cat)\n",
    "                    random_results.append(new_dict)\n",
    "                \n",
    "                add_dict = result_dict.copy()\n",
    "                for key in random_results[0].keys():\n",
    "                    if key == 'name':\n",
    "                        continue\n",
    "                    add_dict[key] = np.mean([res[key] for res in random_results], axis=0)\n",
    "                result_dicts.append(add_dict)\n",
    "\n",
    "        elif name[0:4] == 'CLIP':\n",
    "            for e in range(0, number_of_clip_clip_steps):\n",
    "                n = e * 20\n",
    "                retrieval_function = method(k, n)\n",
    "                new_dict = result_dict.copy()\n",
    "                run_analysis_celeba(retrieval_function, k, n, new_dict, catagories, catagory_column, indistinguisable_values, ['Pale_Skin', 'Male', 'Young'], [['1'], ['1'], ['1']], [['-1'], ['-1'], ['-1']], totals_by_cat)\n",
    "                result_dicts.append(new_dict)\n",
    "        else:\n",
    "            for t in range(0, steps):\n",
    "                if steps == 1:\n",
    "                    tol = None\n",
    "                else:\n",
    "                    tol = t / 200\n",
    "                retrieval_function = method(k, tol)\n",
    "                new_dict = result_dict.copy()\n",
    "                if name == \"CDI_Random\":\n",
    "                    random_results = []\n",
    "                    for i in range(random_iters):\n",
    "                        new_dict = result_dict.copy()\n",
    "                        run_analysis_celeba(retrieval_function, k, tol, new_dict, catagories, catagory_column, indistinguisable_values, ['Pale_Skin', 'Male', 'Young'], [['1'], ['1'], ['1']], [['-1'], ['-1'], ['-1']], totals_by_cat)\n",
    "                        random_results.append(new_dict)\n",
    "                    new_dict = result_dict.copy()\n",
    "\n",
    "                    for key in random_results[0].keys():\n",
    "                        if key == 'name':\n",
    "                            continue\n",
    "                        new_dict[key] = np.mean([res[key] for res in random_results], axis=0)\n",
    "                else:\n",
    "                    run_analysis_celeba(retrieval_function, k, tol, new_dict, catagories, catagory_column, indistinguisable_values, ['Pale_Skin', 'Male', 'Young'], [['1'], ['1'], ['1']], [['-1'], ['-1'], ['-1']], totals_by_cat)\n",
    "                result_dicts.append(new_dict)\n",
    "\n",
    "df = parse_analysis_celeba(result_dicts, ['Pale_Skin', 'Male', 'Young'])\n",
    "\n",
    "print(df)\n",
    "\n",
    "df.to_pickle(\"results/celeba-3-24.pkl\")\n",
    "        "
   ]
  },
  {
   "cell_type": "code",
   "execution_count": 6,
   "metadata": {},
   "outputs": [
    {
     "name": "stdout",
     "output_type": "stream",
     "text": [
      "0.7\n"
     ]
    }
   ],
   "source": [
    "res = image_database.search(\"A picture of an attractive person\")\n",
    "\n",
    "print(multiclass_bias_in_retrieval('Attractive', [\"1\"], res, ['Pale_Skin', 'Male', 'Young'], [['1'], ['1'], ['1']], [['-1'], ['-1'], ['-1']] ))\n",
    "\n"
   ]
  }
 ],
 "metadata": {
  "kernelspec": {
   "display_name": "base",
   "language": "python",
   "name": "python3"
  },
  "language_info": {
   "codemirror_mode": {
    "name": "ipython",
    "version": 3
   },
   "file_extension": ".py",
   "mimetype": "text/x-python",
   "name": "python",
   "nbconvert_exporter": "python",
   "pygments_lexer": "ipython3",
   "version": "3.10.11"
  }
 },
 "nbformat": 4,
 "nbformat_minor": 2
}
