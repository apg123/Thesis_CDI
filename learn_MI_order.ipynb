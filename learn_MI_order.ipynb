{
 "cells": [
  {
   "cell_type": "code",
   "execution_count": null,
   "metadata": {},
   "outputs": [],
   "source": [
    "import numpy as np\n",
    "import pandas as pd\n",
    "import sklearn.feature_selection as fs\n",
    "import torch\n",
    "import clip\n",
    "from helpers import *\n",
    "import debias_clip as dclip\n",
    "\n",
    "## Learning MI for features as described in \"Are Gender-Neutral Queries Really Gender-Neutral? Mitigating Gender Bias in Image Search\" (Wang et al., 2021)\n",
    "\n",
    "def calc_feature_MI(features, labels, n_neighbors = 10, rs=1):\n",
    "    return fs.mutual_info_classif(features, labels, discrete_features=False, copy=True, n_neighbors=n_neighbors, random_state=rs)\n",
    "\n",
    "def return_feature_MI_order(features, data, sensitive_attributes, n_neighbors = 10, rs=1):\n",
    "    labels = data[sensitive_attributes].apply(lambda x: ' '.join(x), axis=1) \n",
    "    print(labels)\n",
    "    feature_MI = calc_feature_MI(features, labels, n_neighbors, rs)\n",
    "    print(feature_MI)\n",
    "    feature_order = np.argsort(feature_MI)[::-1]\n",
    "    print(feature_MI[feature_order])\n",
    "    return feature_order"
   ]
  },
  {
   "cell_type": "code",
   "execution_count": null,
   "metadata": {},
   "outputs": [],
   "source": [
    "data = pd.read_csv('datasets/celeba/list_attr_celeba.csv')\n",
    "data = data.astype('string')\n",
    "print(data.head())\n",
    "\n",
    "\n",
    "MIclip_training = data.iloc[0:20000]\n",
    "MIclip_training.to_csv('datasets/celeba/MIclip_training.csv')\n",
    "img_testing = data.iloc[20000:35000]\n",
    "img_testing.to_csv('datasets/celeba/alg_testing.csv')\n"
   ]
  },
  {
   "cell_type": "code",
   "execution_count": null,
   "metadata": {},
   "outputs": [],
   "source": [
    "prefix = 'datasets/celeba/img_align_celeba/'\n",
    "data['relative_path'] = prefix + data['image_id']    \n",
    "\n",
    "device = \"cuda\" if torch.cuda.is_available() else \"cpu\"\n",
    "model, preprocess = clip.load(\"ViT-B/32\", device)\n",
    "\n",
    "batch_size = 200\n",
    "\n",
    "if True:\n",
    "    features = process_images(model, preprocess, data['relative_path'], batch_size=batch_size)\n",
    "\n",
    "np.save('datasets/celeba/features.npy', features)\n"
   ]
  },
  {
   "cell_type": "code",
   "execution_count": null,
   "metadata": {},
   "outputs": [],
   "source": [
    "prefix = 'datasets/celeba/img_align_celeba/'\n",
    "data['relative_path'] = prefix + data['image_id']    \n",
    "\n",
    "device = \"cuda\" if torch.cuda.is_available() else \"cpu\"\n",
    "model, preprocess = clip.load(\"ViT-B/32\", device)\n",
    "\n",
    "device_d = \"cuda\" if torch.cuda.is_available() else \"cpu\"\n",
    "model_debias, preprocess_debias = dclip.load(\"ViT-B/16-gender\", device_d)\n",
    "\n",
    "batch_size = 200\n",
    "\n",
    "features_debias = process_images(model_debias, preprocess_debias, data['relative_path'], batch_size=batch_size, device=device_d)\n",
    "\n",
    "device_d = 'cpu'\n",
    "model_debias, preprocess_debias = dclip.load(\"ViT-B/16-gender\", device_d)\n",
    "\n",
    "np.save('datasets/celeba/features_debias.npy', features_debias)"
   ]
  },
  {
   "cell_type": "code",
   "execution_count": null,
   "metadata": {},
   "outputs": [],
   "source": [
    "MIfeatures = np.load('datasets/celeba/features.npy')[0:20000]\n",
    "gender_MI_order = return_feature_MI_order(MIfeatures, MIclip_training, ['Male'])\n",
    "skintone_MI_order = return_feature_MI_order(MIfeatures, MIclip_training, ['Pale_Skin'])\n",
    "age_MI_order = return_feature_MI_order(MIfeatures, MIclip_training, ['Young'])\n",
    "gender_skintone_intersectional_MI_order = return_feature_MI_order(MIfeatures, MIclip_training, ['Male', 'Pale_Skin'])\n",
    "intersectional_MI_order = return_feature_MI_order(MIfeatures, MIclip_training, ['Pale_Skin', 'Male', 'Young'])\n",
    "additional_concepts_MI_order = return_feature_MI_order(MIfeatures, MIclip_training, ['Pale_Skin', 'Male', 'Young', 'Attractive'])\n",
    "                                                       \n",
    "np.save('datasets/MI_orders/gender.npy', gender_MI_order)\n",
    "np.save('datasets/MI_orders/skintone.npy', skintone_MI_order)\n",
    "np.save('datasets/MI_orders/age.npy', age_MI_order)\n",
    "np.save('datasets/MI_orders/gender_skintone.npy', gender_skintone_intersectional_MI_order)\n",
    "np.save('datasets/MI_orders/intersectional.npy', intersectional_MI_order)\n",
    "np.save('datasets/MI_orders/additional_concepts.npy', additional_concepts_MI_order)\n"
   ]
  },
  {
   "cell_type": "code",
   "execution_count": null,
   "metadata": {},
   "outputs": [],
   "source": [
    "print(age_MI_order)"
   ]
  },
  {
   "cell_type": "code",
   "execution_count": null,
   "metadata": {},
   "outputs": [],
   "source": [
    "\n",
    "                                          "
   ]
  }
 ],
 "metadata": {
  "kernelspec": {
   "display_name": "base",
   "language": "python",
   "name": "python3"
  },
  "language_info": {
   "codemirror_mode": {
    "name": "ipython",
    "version": 3
   },
   "file_extension": ".py",
   "mimetype": "text/x-python",
   "name": "python",
   "nbconvert_exporter": "python",
   "pygments_lexer": "ipython3",
   "version": "3.10.11"
  }
 },
 "nbformat": 4,
 "nbformat_minor": 2
}
